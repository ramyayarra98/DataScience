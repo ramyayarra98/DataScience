{
 "cells": [
  {
   "cell_type": "markdown",
   "id": "44adce29",
   "metadata": {},
   "source": [
    "# Python Build_in Data Types :\n",
    "\n",
    "- List\n",
    "- Tuple\n",
    "- Sets\n",
    "- Dictonary"
   ]
  },
  {
   "cell_type": "markdown",
   "id": "f43cd4f5",
   "metadata": {},
   "source": [
    "# List methods:\n",
    "\n",
    "1.  list.append\n",
    "2.  list.clear\n",
    "3.  list.copy\n",
    "4.  list.count\n",
    "5.  list.extend\n",
    "6.  list.index\n",
    "7.  list.insert\n",
    "8.  list.mro\n",
    "9.  list.pop\n",
    "10. list.remove\n",
    "12. list.sort\n",
    "13. list.reverse"
   ]
  },
  {
   "cell_type": "code",
   "execution_count": 6,
   "id": "a626bc29",
   "metadata": {},
   "outputs": [
    {
     "name": "stdout",
     "output_type": "stream",
     "text": [
      "[10, 20, 30, 40, 50]\n",
      "['HYD', 'GUN', 'VIZ', 'VIJ', 'NEL']\n",
      "[]\n",
      "[100, 'HYD', '1-21 high-way', 'oracle']\n"
     ]
    }
   ],
   "source": [
    "#example 1 :\n",
    " \n",
    "list=[10,20,30,40,50]\n",
    "print(list)\n",
    "\n",
    "charlist=['HYD','GUN','VIZ','VIJ','NEL']\n",
    "print(charlist)\n",
    "\n",
    "list=[]\n",
    "print(list)\n",
    "\n",
    "list=[100, \"HYD\", '1-21 high-way', 'oracle']\n",
    "print(list)\n"
   ]
  },
  {
   "cell_type": "markdown",
   "id": "d3271b34",
   "metadata": {},
   "source": [
    "# List.append() Method :\n",
    "- The append() method adds an item to the end of the list."
   ]
  },
  {
   "cell_type": "code",
   "execution_count": 5,
   "id": "63ad97ac",
   "metadata": {},
   "outputs": [
    {
     "name": "stdout",
     "output_type": "stream",
     "text": [
      "[11, 22, 33, 44, 55, 66]\n",
      "[11, 22, 33, 44, 55, 66, 77]\n",
      "['seattle', 'redmond', 'newark']\n",
      "['seattle', 'redmond', 'newark', 'baltimore']\n"
     ]
    }
   ],
   "source": [
    "# Example 1 :\n",
    "list=[11,22,33,44,55,66]\n",
    "print(list)\n",
    "#append 77 to the existing list\n",
    "list.append(77)\n",
    "print(list)\n",
    "\n",
    "# Example 2 :\n",
    "list=[\"seattle\", 'redmond', '''newark''']\n",
    "print(list)\n",
    "list.append('baltimore')\n",
    "print(list)"
   ]
  },
  {
   "cell_type": "markdown",
   "id": "48eab8d6",
   "metadata": {},
   "source": [
    "# List.Clear() Method :\n",
    "- The clear() method removes all items from the list."
   ]
  },
  {
   "cell_type": "code",
   "execution_count": 4,
   "id": "68348d89",
   "metadata": {},
   "outputs": [
    {
     "name": "stdout",
     "output_type": "stream",
     "text": [
      "[1, 2, 3, 4, 5, 6, 7, 8, 9]\n",
      "[]\n"
     ]
    }
   ],
   "source": [
    "# Example 1:\n",
    "list=[1,2,3,4,5,6,7,8,9]\n",
    "print(list)\n",
    "\n",
    "list.clear()\n",
    "print(list)"
   ]
  },
  {
   "cell_type": "markdown",
   "id": "ef5d4002",
   "metadata": {},
   "source": [
    "# List.copy() Method :\n",
    "- The copy() method returns a shallow copy of the list."
   ]
  },
  {
   "cell_type": "code",
   "execution_count": 3,
   "id": "5481e10e",
   "metadata": {},
   "outputs": [
    {
     "name": "stdout",
     "output_type": "stream",
     "text": [
      "Old List: ['cat', 0, 6.7]\n",
      "New List: ['cat', 0, 6.7, 'dog']\n"
     ]
    }
   ],
   "source": [
    "# Example :\n",
    "# shallow copy using the slicing syntax\n",
    "# mixed list\n",
    "list = ['cat', 0, 6.7]\n",
    "\n",
    "# copying a list using slicing\n",
    "new_list = list[:]\n",
    "\n",
    "# Adding an element to the new list\n",
    "new_list.append('dog')\n",
    "\n",
    "# Printing new and old list\n",
    "print('Old List:', list)\n",
    "print('New List:', new_list)"
   ]
  },
  {
   "cell_type": "markdown",
   "id": "30f96923",
   "metadata": {},
   "source": [
    "# List.Index() Method :\n",
    "- The index() method returns the index of the specified element in the list."
   ]
  },
  {
   "cell_type": "code",
   "execution_count": 1,
   "id": "30b68a19",
   "metadata": {},
   "outputs": [
    {
     "name": "stdout",
     "output_type": "stream",
     "text": [
      "1\n"
     ]
    }
   ],
   "source": [
    "# Example 1:\n",
    "animals = ['cat', 'dog', 'rabbit', 'horse']\n",
    "\n",
    "# get the index of 'dog'\n",
    "index = animals.index('dog')\n",
    "\n",
    "print(index)\n"
   ]
  },
  {
   "attachments": {
    "image.png": {
     "image/png": "[encoded data removed]"
    }
   },
   "cell_type": "markdown",
   "id": "5169fc81",
   "metadata": {},
   "source": [
    "![image.png](attachment:image.png)"
   ]
  },
  {
   "cell_type": "code",
   "execution_count": 2,
   "id": "118af699",
   "metadata": {},
   "outputs": [
    {
     "name": "stdout",
     "output_type": "stream",
     "text": [
      "[22, 55, 66, 33, 44, 11]\n"
     ]
    },
    {
     "data": {
      "text/plain": [
       "33"
      ]
     },
     "execution_count": 2,
     "metadata": {},
     "output_type": "execute_result"
    }
   ],
   "source": [
    "#Example 2:\n",
    "list=[22,55,66,33,44,11]\n",
    "print(list)\n",
    "\n",
    "list[3]"
   ]
  },
  {
   "cell_type": "markdown",
   "id": "25dd78a1",
   "metadata": {},
   "source": [
    "# List.extend() Method :\n",
    "- The extend() method adds all the elements of an iterable (list, tuple, string etc.) to the end of the list."
   ]
  },
  {
   "cell_type": "code",
   "execution_count": 7,
   "id": "ae775052",
   "metadata": {},
   "outputs": [
    {
     "name": "stdout",
     "output_type": "stream",
     "text": [
      "List after extend(): [1, 4, 2, 3, 5]\n"
     ]
    }
   ],
   "source": [
    " # Example 1:\n",
    "list=[2, 3, 5]\n",
    "\n",
    "new_list=[1, 4]\n",
    "\n",
    "# add all elements of prime_numbers to numbers\n",
    "new_list.extend(list)\n",
    "print('List after extend():', new_list)\n"
   ]
  },
  {
   "cell_type": "code",
   "execution_count": 8,
   "id": "53eb8a9a",
   "metadata": {},
   "outputs": [
    {
     "name": "stdout",
     "output_type": "stream",
     "text": [
      "[1, 2, 3, 4]\n",
      "[1, 2, (3, 4)]\n"
     ]
    }
   ],
   "source": [
    "# Example 2:\n",
    "a1 = [1, 2]\n",
    "a2 = [1, 2]\n",
    "b = (3, 4)\n",
    "\n",
    "# a1 = [1, 2, 3, 4]\n",
    "a1.extend(b) \n",
    "print(a1)\n",
    "\n",
    "# a2 = [1, 2, (3, 4)]\n",
    "a2.append(b)\n",
    "print(a2)"
   ]
  },
  {
   "cell_type": "markdown",
   "id": "08d7dbf4",
   "metadata": {},
   "source": [
    "# List.insert() Method :\n",
    "- The insert() method inserts an element to the list at the specified index."
   ]
  },
  {
   "cell_type": "code",
   "execution_count": 10,
   "id": "69086688",
   "metadata": {},
   "outputs": [
    {
     "name": "stdout",
     "output_type": "stream",
     "text": [
      "List: ['a', 'e', 'i', 'o', 'u']\n",
      "____________________________________________\n",
      "Updated List: [{1, 2}, (3, 4), [5, 6, 7]]\n"
     ]
    }
   ],
   "source": [
    "# Example 1:\n",
    "vowel = ['a', 'e', 'i', 'u']\n",
    "\n",
    "# 'o' is inserted at index 3 (4th position)\n",
    "vowel.insert(3, 'o')\n",
    "\n",
    "\n",
    "print('List:', vowel)\n",
    "\n",
    "print('____________________________________________')\n",
    "\n",
    "# Example 2:\n",
    "mixed_list = [{1, 2}, [5, 6, 7]]\n",
    "\n",
    "# number tuple\n",
    "number_tuple = (3, 4)\n",
    "\n",
    "# inserting a tuple to the list\n",
    "mixed_list.insert(1, number_tuple)\n",
    "\n",
    "\n",
    "print('Updated List:', mixed_list)"
   ]
  },
  {
   "cell_type": "markdown",
   "id": "a8002e8d",
   "metadata": {},
   "source": [
    "# List.remove() Method :\n",
    "- The remove() method removes the first matching element (which is passed as an argument) from the list."
   ]
  },
  {
   "cell_type": "code",
   "execution_count": 12,
   "id": "214bf8b6",
   "metadata": {},
   "outputs": [
    {
     "name": "stdout",
     "output_type": "stream",
     "text": [
      "Updated List:  [2, 3, 5, 7, 11]\n",
      "____________________________________________\n"
     ]
    },
    {
     "ename": "ValueError",
     "evalue": "list.remove(x): x not in list",
     "output_type": "error",
     "traceback": [
      "\u001b[1;31m---------------------------------------------------------------------------\u001b[0m",
      "\u001b[1;31mValueError\u001b[0m                                Traceback (most recent call last)",
      "Cell \u001b[1;32mIn[12], line 20\u001b[0m\n\u001b[0;32m     17\u001b[0m animals \u001b[38;5;241m=\u001b[39m [\u001b[38;5;124m'\u001b[39m\u001b[38;5;124mcat\u001b[39m\u001b[38;5;124m'\u001b[39m, \u001b[38;5;124m'\u001b[39m\u001b[38;5;124mdog\u001b[39m\u001b[38;5;124m'\u001b[39m, \u001b[38;5;124m'\u001b[39m\u001b[38;5;124mrabbit\u001b[39m\u001b[38;5;124m'\u001b[39m, \u001b[38;5;124m'\u001b[39m\u001b[38;5;124mguinea pig\u001b[39m\u001b[38;5;124m'\u001b[39m]\n\u001b[0;32m     19\u001b[0m \u001b[38;5;66;03m# Deleting 'fish' element\u001b[39;00m\n\u001b[1;32m---> 20\u001b[0m animals\u001b[38;5;241m.\u001b[39mremove(\u001b[38;5;124m'\u001b[39m\u001b[38;5;124mfish\u001b[39m\u001b[38;5;124m'\u001b[39m)\n\u001b[0;32m     23\u001b[0m \u001b[38;5;66;03m# Updated animals List\u001b[39;00m\n\u001b[0;32m     24\u001b[0m \u001b[38;5;28mprint\u001b[39m(\u001b[38;5;124m'\u001b[39m\u001b[38;5;124mUpdated animals list: \u001b[39m\u001b[38;5;124m'\u001b[39m, animals)\n",
      "\u001b[1;31mValueError\u001b[0m: list.remove(x): x not in list"
     ]
    }
   ],
   "source": [
    "# Example 1:\n",
    "# create a list\n",
    "prime_numbers = [2, 3, 5, 7, 9, 11]\n",
    "\n",
    "# remove 9 from the list\n",
    "prime_numbers.remove(9)\n",
    "\n",
    "\n",
    "# Updated prime_numbers List\n",
    "print('Updated List: ', prime_numbers)\n",
    "\n",
    "print('____________________________________________')\n",
    "\n",
    "# Example 2:\n",
    "\n",
    "animals = ['cat', 'dog', 'rabbit', 'guinea pig']\n",
    "\n",
    "# Deleting 'fish' element\n",
    "animals.remove('fish')\n",
    "\n",
    "\n",
    "# Updated animals List\n",
    "print('Updated animals list: ', animals)"
   ]
  },
  {
   "cell_type": "markdown",
   "id": "109a167a",
   "metadata": {},
   "source": [
    "# List.count() Method :\n",
    "- The count() method returns the number of times the specified element appears in the list."
   ]
  },
  {
   "cell_type": "code",
   "execution_count": 14,
   "id": "3ddf025e",
   "metadata": {},
   "outputs": [
    {
     "name": "stdout",
     "output_type": "stream",
     "text": [
      "The count of i is: 2\n",
      "The count of p is: 0\n",
      "____________________________________________\n",
      "The count of ('a', 'b') is: 2\n",
      "The count of [3, 4] is: 1\n"
     ]
    }
   ],
   "source": [
    "# Example 1:\n",
    "# vowels list\n",
    "vowels = ['a', 'e', 'i', 'o', 'i', 'u']\n",
    "\n",
    "# count element 'i'\n",
    "count = vowels.count('i')\n",
    "\n",
    "print('The count of i is:', count)\n",
    "\n",
    "# count element 'p'\n",
    "count = vowels.count('p')\n",
    "\n",
    "print('The count of p is:', count)\n",
    "\n",
    "print('____________________________________________')\n",
    "\n",
    "# Example 2:\n",
    "# random list\n",
    "random = ['a', ('a', 'b'), ('a', 'b'), [3, 4]]\n",
    "\n",
    "# count element ('a', 'b')\n",
    "count = random.count(('a', 'b'))\n",
    "\n",
    "print(\"The count of ('a', 'b') is:\", count)\n",
    "\n",
    "# count element [3, 4]\n",
    "count = random.count([3, 4])\n",
    "\n",
    "print(\"The count of [3, 4] is:\", count)"
   ]
  },
  {
   "cell_type": "markdown",
   "id": "aaa43df7",
   "metadata": {},
   "source": [
    "# List.pop() Method :\n",
    "- The list pop() method removes the item at the specified index. The method also returns the removed item."
   ]
  },
  {
   "cell_type": "code",
   "execution_count": 31,
   "id": "56caa131",
   "metadata": {},
   "outputs": [
    {
     "name": "stdout",
     "output_type": "stream",
     "text": [
      "Removed Element: 5\n",
      "Updated List: [2, 3, 7]\n"
     ]
    }
   ],
   "source": [
    "# Example 1:\n",
    "\n",
    "prime_numbers = [2, 3, 5, 7]\n",
    "\n",
    "# remove the element at index 2\n",
    "removed_element = prime_numbers.pop(2)\n",
    "\n",
    "print('Removed Element:', removed_element)\n",
    "print('Updated List:', prime_numbers)"
   ]
  },
  {
   "cell_type": "code",
   "execution_count": 23,
   "id": "e0bc106f",
   "metadata": {},
   "outputs": [
    {
     "name": "stdout",
     "output_type": "stream",
     "text": [
      "Return Value: C\n",
      "Updated List: ['Python', 'Java', 'C++', 'Ruby']\n",
      "Return Value: Ruby\n",
      "Updated List: ['Python', 'Java', 'C++']\n",
      "Return Value: Python\n",
      "Updated List: ['Java', 'C++']\n"
     ]
    }
   ],
   "source": [
    "# Example 2:\n",
    "languages = ['Python', 'Java', 'C++', 'Ruby', 'C']\n",
    "\n",
    "# remove and return the last item\n",
    "print('Return Value:', languages.pop())\n",
    "print('Updated List:', languages)\n",
    "\n",
    "# remove and return the last item\n",
    "print('Return Value:', languages.pop(-1))\n",
    "print('Updated List:', languages)\n",
    "\n",
    "# remove and return the third last item\n",
    "print('Return Value:', languages.pop(-3))\n",
    "print('Updated List:', languages)\n"
   ]
  },
  {
   "cell_type": "markdown",
   "id": "0fe55108",
   "metadata": {},
   "source": [
    "# List.reverse() Method :\n",
    "- The reverse() method reverses the elements of the list."
   ]
  },
  {
   "cell_type": "code",
   "execution_count": 29,
   "id": "f5ff917e",
   "metadata": {},
   "outputs": [
    {
     "name": "stdout",
     "output_type": "stream",
     "text": [
      "Reversed List: [7, 5, 3, 2]\n"
     ]
    }
   ],
   "source": [
    "# Example 1:\n",
    "# create a list of prime numbers\n",
    "prime_numbers = [2, 3, 5, 7]\n",
    "\n",
    "# reverse the order of list elements\n",
    "prime_numbers.reverse()\n",
    "\n",
    "print('Reversed List:', prime_numbers)"
   ]
  },
  {
   "cell_type": "markdown",
   "id": "ea7d0514",
   "metadata": {},
   "source": [
    "# List.sort() Method :\n",
    "- The sort() method sorts the items of a list in ascending or descending order."
   ]
  },
  {
   "cell_type": "code",
   "execution_count": 30,
   "id": "000b82ee",
   "metadata": {},
   "outputs": [
    {
     "name": "stdout",
     "output_type": "stream",
     "text": [
      "[2, 3, 5, 7, 11]\n"
     ]
    }
   ],
   "source": [
    "# Example 1:\n",
    "prime_numbers = [11, 3, 7, 5, 2]\n",
    "\n",
    "# sorting the list in ascending order\n",
    "prime_numbers.sort()\n",
    "\n",
    "print(prime_numbers)"
   ]
  },
  {
   "cell_type": "code",
   "execution_count": null,
   "id": "974b449f",
   "metadata": {},
   "outputs": [],
   "source": []
  }
 ],
 "metadata": {
  "kernelspec": {
   "display_name": "Python 3 (ipykernel)",
   "language": "python",
   "name": "python3"
  },
  "language_info": {
   "codemirror_mode": {
    "name": "ipython",
    "version": 3
   },
   "file_extension": ".py",
   "mimetype": "text/x-python",
   "name": "python",
   "nbconvert_exporter": "python",
   "pygments_lexer": "ipython3",
   "version": "3.11.3"
  }
 },
 "nbformat": 4,
 "nbformat_minor": 5
}
