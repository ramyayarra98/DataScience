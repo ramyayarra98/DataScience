{
 "cells": [
  {
   "cell_type": "code",
   "execution_count": 1,
   "id": "b6ac6294",
   "metadata": {},
   "outputs": [
    {
     "name": "stdout",
     "output_type": "stream",
     "text": [
      "Sum of two numbers: 35\n"
     ]
    }
   ],
   "source": [
    "# Python Program to Add Two Numbers\n",
    "a = 25\n",
    "b = 10\n",
    "sum = a+b\n",
    "print(\"Sum of two numbers:\", sum)"
   ]
  },
  {
   "cell_type": "code",
   "execution_count": 2,
   "id": "49cb83ba",
   "metadata": {},
   "outputs": [
    {
     "name": "stdout",
     "output_type": "stream",
     "text": [
      "Maximum of two Number: 25\n"
     ]
    }
   ],
   "source": [
    "# Find Maximum of two numbers in Python\n",
    "a = 25\n",
    "b = 10\n",
    "maximum = max(a, b)\n",
    "print(\"Maximum of two Number:\", maximum)\n"
   ]
  },
  {
   "cell_type": "code",
   "execution_count": 3,
   "id": "8769a920",
   "metadata": {},
   "outputs": [
    {
     "name": "stdout",
     "output_type": "stream",
     "text": [
      "Enter a number: 20\n",
      "The factorial of 20 is 2432902008176640000\n"
     ]
    }
   ],
   "source": [
    "# Python Program for factorial of a number\n",
    "n = int(input(\"Enter a number: \"))    \n",
    "factorial = 1    \n",
    "if n < 0:    \n",
    "   print(\" Factorial does not exist for negative numbers\")    \n",
    "elif n == 0:    \n",
    "   print(\"The factorial of 0 is 1\")    \n",
    "else:    \n",
    "   for i in range(1,n + 1):    \n",
    "       factorial = factorial*i    \n",
    "   print(\"The factorial of\",n,\"is\",factorial)    "
   ]
  },
  {
   "cell_type": "code",
   "execution_count": 4,
   "id": "4db055fc",
   "metadata": {},
   "outputs": [
    {
     "name": "stdout",
     "output_type": "stream",
     "text": [
      "Enter a number: 10\n",
      "The factorial of 10 is 3628800\n"
     ]
    }
   ],
   "source": [
    "n = int(input(\"Enter a number: \"))\n",
    "factorial = 1\n",
    "if n >= 1:\n",
    "    for i in range (1, n+1):\n",
    "        factorial = factorial *i\n",
    "    print(\"The factorial of\",n,\"is\",factorial)    "
   ]
  },
  {
   "cell_type": "code",
   "execution_count": 5,
   "id": "a4d02a3d",
   "metadata": {},
   "outputs": [
    {
     "name": "stdout",
     "output_type": "stream",
     "text": [
      "20.0\n"
     ]
    }
   ],
   "source": [
    "# Python Program for simple interest\n",
    "P=1000\n",
    "T= 2\n",
    "R =1\n",
    "print(P*T*R/100)"
   ]
  },
  {
   "cell_type": "code",
   "execution_count": 6,
   "id": "3cfe4048",
   "metadata": {},
   "outputs": [
    {
     "name": "stdout",
     "output_type": "stream",
     "text": [
      "8323.2\n",
      "Compound Intrest is : 323.2000000000007\n"
     ]
    }
   ],
   "source": [
    "# Compound Interest Formula\n",
    "P=8000\n",
    "R=2\n",
    "T=2\n",
    "Amount=P*pow(1+(R/100),T)\n",
    "print(Amount)\n",
    "CI=Amount - P\n",
    "print(\"Compound Intrest is :\",CI)"
   ]
  },
  {
   "cell_type": "code",
   "execution_count": 7,
   "id": "53de6c61",
   "metadata": {},
   "outputs": [
    {
     "name": "stdout",
     "output_type": "stream",
     "text": [
      "The Given number is Armstrong Number\n"
     ]
    }
   ],
   "source": [
    "# Python Program to Check Armstrong Number\n",
    "\n",
    "a = 153\n",
    "b= str(a)\n",
    "c = len(b)\n",
    "total = 0\n",
    "\n",
    "for i in range(0, c):\n",
    "    total = total + pow(int(b[i]), c)\n",
    "\n",
    "if total == a:\n",
    "    print(\"The Given number is Armstrong Number\")\n",
    "else:\n",
    "    print(\"The given number is not Armstrong Number\")"
   ]
  },
  {
   "cell_type": "code",
   "execution_count": 8,
   "id": "95136960",
   "metadata": {},
   "outputs": [
    {
     "name": "stdout",
     "output_type": "stream",
     "text": [
      "Enter a number: 45\n",
      "45 is not an Armstrong number\n"
     ]
    }
   ],
   "source": [
    "n = int(input(\"Enter a number: \"))\n",
    "s = 0\n",
    "t = n\n",
    "while t > 0:\n",
    "   digit = t % 10\n",
    "   s += digit ** 3\n",
    "   t //= 10\n",
    "if n == s:\n",
    "   print(n,\"is an Armstrong number\")\n",
    "else:\n",
    "   print(n,\"is not an Armstrong number\")"
   ]
  },
  {
   "cell_type": "code",
   "execution_count": 9,
   "id": "1fa74112",
   "metadata": {},
   "outputs": [
    {
     "name": "stdout",
     "output_type": "stream",
     "text": [
      "50.24\n"
     ]
    }
   ],
   "source": [
    "# Python Program to Find Area of a Circle\n",
    "r=4 # radius of the circle\n",
    "Area_of_the_Circle=3.14*pow(r,2)\n",
    "print(Area_of_the_Circle)"
   ]
  },
  {
   "cell_type": "code",
   "execution_count": 10,
   "id": "d78cfb74",
   "metadata": {},
   "outputs": [
    {
     "name": "stdout",
     "output_type": "stream",
     "text": [
      "Prime Number: 2\n",
      "Prime Number: 3\n",
      "It is not a prime Number: 4\n",
      "Prime Number: 5\n",
      "It is not a prime Number: 6\n",
      "Prime Number: 7\n",
      "It is not a prime Number: 8\n",
      "It is not a prime Number: 9\n"
     ]
    }
   ],
   "source": [
    "# Python Program to Print the given number Prime number\n",
    "#Print prime number in b/w 1 - 10\n",
    "n = 10\n",
    "for i in range(2, n):\n",
    "    if i>1:\n",
    "        for j in range(2,i):\n",
    "            if i%j==0:\n",
    "                print(\"It is not a prime Number:\", i)\n",
    "                break\n",
    "        else:\n",
    "            print(\"Prime Number:\", i)"
   ]
  },
  {
   "cell_type": "code",
   "execution_count": 11,
   "id": "70df599f",
   "metadata": {},
   "outputs": [
    {
     "name": "stdout",
     "output_type": "stream",
     "text": [
      "5 is a prime number\n"
     ]
    }
   ],
   "source": [
    "# Python program to check whether a number is Prime or not\n",
    "n = 5\n",
    "if n > 1:\n",
    "    for i in range(2,int(n/2)+1):\n",
    "        if (n % i) == 0:\n",
    "            print(num, \"is not a prime number\")\n",
    "            break\n",
    "    else:\n",
    "        print(n, \"is a prime number\")\n",
    "else:\n",
    "    print(n, \"is not a prime number\")"
   ]
  },
  {
   "cell_type": "code",
   "execution_count": 15,
   "id": "bf40c4bd",
   "metadata": {},
   "outputs": [
    {
     "name": "stdout",
     "output_type": "stream",
     "text": [
      "Enter the Number: 4\n",
      "Fibonacci series: 0 1 1 3 "
     ]
    }
   ],
   "source": [
    "# Python Program for n-th Fibonacci number \n",
    "def fibonacciSeries(num):\n",
    "    if num == 0:\n",
    "        return 0\n",
    "    elif num == 1:\n",
    "        return 1\n",
    "    else:\n",
    "        return (num-1) + (num-2)\n",
    "    \n",
    "n = int(input(\"Enter the Number: \"))\n",
    "print(\"Fibonacci series:\", end=' ')\n",
    "for n in range(0, n):\n",
    "    print(fibonacciSeries(n), end=' ')"
   ]
  },
  {
   "cell_type": "code",
   "execution_count": 31,
   "id": "2c507cf1",
   "metadata": {},
   "outputs": [
    {
     "ename": "SyntaxError",
     "evalue": "invalid syntax (163337244.py, line 5)",
     "output_type": "error",
     "traceback": [
      "\u001b[1;36m  Cell \u001b[1;32mIn[31], line 5\u001b[1;36m\u001b[0m\n\u001b[1;33m    elif num == 1:\u001b[0m\n\u001b[1;37m    ^\u001b[0m\n\u001b[1;31mSyntaxError\u001b[0m\u001b[1;31m:\u001b[0m invalid syntax\n"
     ]
    }
   ],
   "source": [
    "def FibonacciSeries(num):\n",
    "        if num == 0:\n",
    "            return 0\n",
    "        print(\"Not a Fibonacci Series\")\n",
    "        elif num == 1:\n",
    "            return 1\n",
    "        print(\"Is a Fibonacci Series\")\n",
    "        else:\n",
    "        return (num-1)+(num-2)\n",
    "n = int(input(\"Enter the Number: \"))\n",
    "for i in range(0,num):\n",
    "print(\"Fibonacci series:\", end=' ')"
   ]
  },
  {
   "cell_type": "code",
   "execution_count": 18,
   "id": "89ff4223",
   "metadata": {},
   "outputs": [
    {
     "name": "stdout",
     "output_type": "stream",
     "text": [
      "Enter the number of terms : 5\n",
      "Generating Fibonacci sequence upto  5 : \n",
      "0\n",
      "1\n",
      "1\n",
      "2\n",
      "3\n"
     ]
    }
   ],
   "source": [
    "# Python Program for How to check if a given number is Fibonacci number?\n",
    "N = int(input(\"Enter the number of terms : \"))\n",
    "\n",
    "# first two terms are f1, f2 equal to 0 and 1 respectively\n",
    "f1, f2 = 0, 1\n",
    "count = 0\n",
    "\n",
    "# checking for invalid inputs\n",
    "if(N <= 0):\n",
    "    print(\"Invalid Input, Kindly enter number greater than 0\")\n",
    "\n",
    "# if only one number in the sequence\n",
    "elif(N == 1):\n",
    "    print(\"Generating Fibonacci Sequence upto \", N, \": \")\n",
    "    print(f1)\n",
    "\n",
    "# for all the other cases, i.e. when N > 1\n",
    "else:\n",
    "    print(\"Generating Fibonacci sequence upto \", N, \": \")\n",
    "    while count < N:\n",
    "        print(f1)\n",
    "        fth = f1 + f2\n",
    "# swapping the values for f1 and f2\n",
    "        f1 = f2\n",
    "        f2 = fth\n",
    "        count += 1"
   ]
  },
  {
   "cell_type": "code",
   "execution_count": 24,
   "id": "000c579e",
   "metadata": {},
   "outputs": [
    {
     "name": "stdout",
     "output_type": "stream",
     "text": [
      "1\n",
      "4\n",
      "9\n",
      "16\n",
      "25\n"
     ]
    }
   ],
   "source": [
    "# Python Program for Sum of squares of first n natural numbers\n",
    "n = int(input(\"Enter the number of terms : \"))\n",
    "for i in range(1,n+1):\n",
    "    for j in range(1,i):\n",
    "          if i*j==0 :\n",
    "            break\n",
    "    else:\n",
    "         print(pow(i,2)) "
   ]
  },
  {
   "cell_type": "code",
   "execution_count": 2,
   "id": "aafcdda8",
   "metadata": {},
   "outputs": [
    {
     "name": "stdout",
     "output_type": "stream",
     "text": [
      "Enter a number: 4\n",
      "Sum of squares of first n natural numbers: \n",
      "Sum of squares of first n natural numbers: \n",
      "Sum of squares of first n natural numbers: \n",
      "Sum of squares of first n natural numbers: \n",
      "Sum of squares of first n natural numbers: \n",
      "Sum of squares of first n natural numbers: \n",
      "Sum of squares of first n natural numbers: \n"
     ]
    }
   ],
   "source": [
    "# Python Program for Sum of squares of first n natural numbers\n",
    "n = int(input(\"Enter a number: \"))\n",
    "    for i in range (1, n*2):\n",
    "        if n >= 0:\n",
    "        print(\"Sum of squares of first n natural numbers: \")"
   ]
  },
  {
   "cell_type": "code",
   "execution_count": null,
   "id": "892180a3",
   "metadata": {},
   "outputs": [],
   "source": []
  }
 ],
 "metadata": {
  "kernelspec": {
   "display_name": "Python 3 (ipykernel)",
   "language": "python",
   "name": "python3"
  },
  "language_info": {
   "codemirror_mode": {
    "name": "ipython",
    "version": 3
   },
   "file_extension": ".py",
   "mimetype": "text/x-python",
   "name": "python",
   "nbconvert_exporter": "python",
   "pygments_lexer": "ipython3",
   "version": "3.11.3"
  }
 },
 "nbformat": 4,
 "nbformat_minor": 5
}
