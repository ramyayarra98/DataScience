{
 "cells": [
  {
   "cell_type": "code",
   "execution_count": null,
   "id": "8fa212d2",
   "metadata": {},
   "outputs": [],
   "source": [
    "import numpy as np \n",
    "import pandas as pd\n",
    "import matplotlib.pyplot as plt\n",
    "\n",
    "import os\n",
    "import glob\n",
    "for dirname, _, filenames in os.walk('D:\\\\DATA SCIENCE\\\\PROJECTS\\\\Car_Licence_Plate_DataSets\\\\annotations'):\n",
    "    for filename in filenames:\n",
    "        print(os.path.join(dirname, filename))"
   ]
  },
  {
   "cell_type": "code",
   "execution_count": 8,
   "id": "e6719cee",
   "metadata": {},
   "outputs": [
    {
     "name": "stdout",
     "output_type": "stream",
     "text": [
      "D:\\DATA SCIENCE\\PROJECTS\\Car_Licence_Plate_DataSets\\annotations\n",
      "D:\\DATA SCIENCE\\PROJECTS\\Car_Licence_Plate_DataSets\\images\n"
     ]
    }
   ],
   "source": [
    "DATASET_PATH = \"D:\\DATA SCIENCE\\PROJECTS\\Car_Licence_Plate_DataSets\"\n",
    "ANNOTATIONS_PATH = os.path.join(DATASET_PATH, \"annotations\")\n",
    "IMAGES_PATH = os.path.join(DATASET_PATH, \"images\")\n",
    "\n",
    "print(ANNOTATIONS_PATH)\n",
    "print(IMAGES_PATH)"
   ]
  },
  {
   "cell_type": "code",
   "execution_count": 9,
   "id": "78d2c3c7",
   "metadata": {},
   "outputs": [
    {
     "ename": "NameError",
     "evalue": "name 'plt' is not defined",
     "output_type": "error",
     "traceback": [
      "\u001b[1;31m---------------------------------------------------------------------------\u001b[0m",
      "\u001b[1;31mNameError\u001b[0m                                 Traceback (most recent call last)",
      "Cell \u001b[1;32mIn[9], line 3\u001b[0m\n\u001b[0;32m      1\u001b[0m image_filename \u001b[38;5;241m=\u001b[39m \u001b[38;5;124m'\u001b[39m\u001b[38;5;124mCars129.png\u001b[39m\u001b[38;5;124m'\u001b[39m\n\u001b[0;32m      2\u001b[0m image_path \u001b[38;5;241m=\u001b[39m os\u001b[38;5;241m.\u001b[39mpath\u001b[38;5;241m.\u001b[39mjoin(IMAGES_PATH, image_filename)\n\u001b[1;32m----> 3\u001b[0m img \u001b[38;5;241m=\u001b[39m plt\u001b[38;5;241m.\u001b[39mimread(image_path)\n\u001b[0;32m      4\u001b[0m fig, ax \u001b[38;5;241m=\u001b[39m plt\u001b[38;5;241m.\u001b[39msubplots(figsize\u001b[38;5;241m=\u001b[39m(\u001b[38;5;241m10\u001b[39m, \u001b[38;5;241m8\u001b[39m))\n\u001b[0;32m      5\u001b[0m ax\u001b[38;5;241m.\u001b[39mimshow(img);\n",
      "\u001b[1;31mNameError\u001b[0m: name 'plt' is not defined"
     ]
    }
   ],
   "source": [
    "image_filename = 'Cars129.png'\n",
    "image_path = os.path.join(IMAGES_PATH, image_filename)\n",
    "img = plt.imread(image_path)\n",
    "fig, ax = plt.subplots(figsize=(10, 8))\n",
    "ax.imshow(img);\n",
    "print('Image shape: {}'.format(img.shape))"
   ]
  },
  {
   "cell_type": "code",
   "execution_count": 8,
   "id": "f7ef112c",
   "metadata": {},
   "outputs": [
    {
     "name": "stdout",
     "output_type": "stream",
     "text": [
      "\n",
      "<annotation>\n",
      "    <folder>images</folder>\n",
      "    <filename>Cars129.png</filename>\n",
      "    <size>\n",
      "        <width>530</width>\n",
      "        <height>398</height>\n",
      "        <depth>3</depth>\n",
      "    </size>\n",
      "    <segmented>0</segmented>\n",
      "    <object>\n",
      "        <name>licence</name>\n",
      "        <pose>Unspecified</pose>\n",
      "        <truncated>0</truncated>\n",
      "        <occluded>0</occluded>\n",
      "        <difficult>0</difficult>\n",
      "        <bndbox>\n",
      "            <xmin>204</xmin>\n",
      "            <ymin>213</ymin>\n",
      "            <xmax>282</xmax>\n",
      "            <ymax>267</ymax>\n",
      "        </bndbox>\n",
      "    </object>\n",
      "</annotation>\n"
     ]
    }
   ],
   "source": [
    "with open(os.path.join(ANNOTATIONS_PATH, 'Cars129.xml')) as f:\n",
    "    print(f.read())"
   ]
  },
  {
   "cell_type": "code",
   "execution_count": null,
   "id": "a25a2ba5",
   "metadata": {},
   "outputs": [],
   "source": []
  },
  {
   "cell_type": "code",
   "execution_count": null,
   "id": "eea8d467",
   "metadata": {},
   "outputs": [],
   "source": [
    "\n",
    "from PIL import Image\n",
    "from pytesseract import pytesseract\n",
    "  \n",
    "path_to_tesseract = r\"C:\\Users\\ramya\\ANACONDA\\Lib\\site-packages\\pytesseract\"\n",
    "image_path = r\"D:\\DATA SCIENCE\\PROJECTS\\Car_Licence_Plate_DataSets\\images\\Cars129.png\"\n",
    "  \n",
    "img = Image.open(image_path)\n",
    "  \n",
    "pytesseract.tesseract_cmd = path_to_tesseract\n",
    "  \n",
    "text = pytesseract.image_to_string(img)\n",
    "  \n",
    "print(text[:-1])"
   ]
  },
  {
   "cell_type": "code",
   "execution_count": null,
   "id": "e77f3194",
   "metadata": {},
   "outputs": [],
   "source": [
    "pip install matplotlib"
   ]
  },
  {
   "cell_type": "code",
   "execution_count": null,
   "id": "f5b6b19d",
   "metadata": {},
   "outputs": [],
   "source": []
  }
 ],
 "metadata": {
  "kernelspec": {
   "display_name": "Python 3 (ipykernel)",
   "language": "python",
   "name": "python3"
  },
  "language_info": {
   "codemirror_mode": {
    "name": "ipython",
    "version": 3
   },
   "file_extension": ".py",
   "mimetype": "text/x-python",
   "name": "python",
   "nbconvert_exporter": "python",
   "pygments_lexer": "ipython3",
   "version": "3.11.3"
  }
 },
 "nbformat": 4,
 "nbformat_minor": 5
}
