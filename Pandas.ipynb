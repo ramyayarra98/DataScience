{
 "cells": [
  {
   "cell_type": "markdown",
   "metadata": {},
   "source": [
    "### Pandas.....\n",
    "1. Pandas is an open-source Python Library providing high-performance data manipulation and analysis tool using its powerful data structures.\n",
    "\n",
    "### Key Features of Pandas:\n",
    "1. Fast and efficient DataFrame object with default and customized indexing.\n",
    "2. Tools for loading data into in-memory data objects from different file formats.\n",
    "3. Data alignment and integrated handling of missing data.\n",
    "4. Reshaping and pivoting of date sets.\n",
    "5. Label-based slicing, indexing and subsetting of large data sets.\n",
    "6. Columns from a data structure can be deleted or inserted.\n",
    "7. Group by data for aggregation and transformations.\n",
    "8. High performance merging and joining of data.\n",
    "9. Time Series functionality.\n",
    "\n",
    "###  DataStructures :\n",
    "1. Series: 1D labeled homogeneous array, sizeimmutable.\n",
    "2. Data Frames:\tGeneral 2D labeled, size-mutable tabular structure with potentially heterogeneously typed columns.\n",
    "3. Panel: General 3D labeled, size-mutable array.\n",
    "\n",
    "###### Note  :−   DataFrame is widely used and one of the most important data structures. Panel is used much less.\n",
    "\n",
    "#### Pandas - Series: \n",
    "1. Series is a one-dimensional labeled array capable of holding data of any type (integer, string, float, python objects, etc.). The axis labels are collectively called index.\n",
    "\n",
    "2. Series can be created using :\n",
    "    1. Array\n",
    "    2. Dict\n",
    "    3. Scalar Value or constant\n",
    "    \n",
    " "
   ]
  },
  {
   "cell_type": "markdown",
   "metadata": {},
   "source": []
  },
  {
   "cell_type": "code",
   "execution_count": null,
   "metadata": {},
   "outputs": [],
   "source": [
    "import numpy as np\n",
    "import pandas as pd\n",
    "from pandas import Series, DataFrame\n",
    "\n",
    "s = pd.Series([1,2,3])\n",
    "print(s)\n",
    "\n",
    "myArray =  np.array(['a','b','c','d','e'])\n",
    "print(myArray)\n",
    "\n",
    "s = pd.Series(myArray)\n",
    "print(s)\n",
    "\n",
    "s1 = Series([6,3,1,5,2,9])\n",
    "print(s1)\n",
    "s1.values\n",
    "s1.index"
   ]
  },
  {
   "cell_type": "code",
   "execution_count": null,
   "metadata": {},
   "outputs": [],
   "source": [
    "cityPopulation_2016 = Series([876543,345678,270987,762423], index=[\"Kurnool\",\"Kadapa\",\"Anantapur\",\"Chitoor\"])\n",
    "cityPopulation_2016"
   ]
  },
  {
   "cell_type": "code",
   "execution_count": null,
   "metadata": {},
   "outputs": [],
   "source": [
    "cityPopulation_2016[\"Kadapa\"]"
   ]
  },
  {
   "cell_type": "code",
   "execution_count": null,
   "metadata": {},
   "outputs": [],
   "source": [
    "cityPopulation_2016[cityPopulation_2016 > 500000]"
   ]
  },
  {
   "cell_type": "code",
   "execution_count": null,
   "metadata": {},
   "outputs": [],
   "source": [
    "'Kurnool' in cityPopulation_2016"
   ]
  },
  {
   "cell_type": "code",
   "execution_count": null,
   "metadata": {},
   "outputs": [],
   "source": [
    "cities = [\"Kurnool\",\"Kadapa\",\"Anantapur\",\"Chitoor\",\"Nellore\"]\n",
    "\n",
    "Ser =  Series(cityPopulation_2016, index=cities)\n",
    "\n",
    "print(Ser)"
   ]
  },
  {
   "cell_type": "code",
   "execution_count": null,
   "metadata": {},
   "outputs": [],
   "source": [
    "# adding two series\n",
    "\n",
    "newSer = Ser + cityPopulation_2016\n",
    "print(newSer)"
   ]
  },
  {
   "cell_type": "code",
   "execution_count": null,
   "metadata": {},
   "outputs": [],
   "source": [
    "# Nameing the series\n",
    "\n",
    "newSer.name = \"Rayalaseema City Population\"\n",
    "\n",
    "# nameing the index \n",
    "newSer.index.name = \"City\"\n",
    "\n",
    "print(newSer)"
   ]
  },
  {
   "cell_type": "markdown",
   "metadata": {},
   "source": [
    "###  Dataframes:\n"
   ]
  },
  {
   "cell_type": "code",
   "execution_count": null,
   "metadata": {},
   "outputs": [],
   "source": [
    "df=pd.read_csv(\"/Users/Sivaram/Desktop/Learning/Training/Kelly/xlsx/Salaries.csv\")\n",
    "\n",
    "print(\"Head Data: \\n \", df.head())\n",
    "\n",
    "print(\"Tail Data: \\n\", df.tail())\n"
   ]
  },
  {
   "cell_type": "code",
   "execution_count": null,
   "metadata": {},
   "outputs": [],
   "source": [
    "df.info()"
   ]
  },
  {
   "cell_type": "code",
   "execution_count": null,
   "metadata": {},
   "outputs": [],
   "source": [
    "# get first five values of single column\n",
    "\n",
    "df['last_name'].head()"
   ]
  },
  {
   "cell_type": "code",
   "execution_count": null,
   "metadata": {},
   "outputs": [],
   "source": [
    "# adding a new column to dataframe\n",
    "DataFrame(df,columns=['last_name','first_name','Age'])\n"
   ]
  },
  {
   "cell_type": "code",
   "execution_count": null,
   "metadata": {},
   "outputs": [],
   "source": [
    "# get 4th record from dataframe\n",
    "\n",
    "df.iloc[4]"
   ]
  },
  {
   "cell_type": "code",
   "execution_count": null,
   "metadata": {},
   "outputs": [],
   "source": [
    "# Add new column double salary using base salary\n",
    "df['Double Salary'] = df['base_salary']*2\n",
    "df.head()"
   ]
  },
  {
   "cell_type": "code",
   "execution_count": null,
   "metadata": {},
   "outputs": [],
   "source": [
    "# Add new column with default value\n",
    "df['Taxes'] = \"Basic Tax\"\n",
    "df.head()"
   ]
  },
  {
   "cell_type": "code",
   "execution_count": null,
   "metadata": {},
   "outputs": [],
   "source": [
    "# adding values to the new column based on indexes\n",
    "tax_index = Series([\"Central Tax\", \"State Tax\"], index=[0,6])\n",
    "df['Taxes'] = tax_index\n",
    "df.head(10)"
   ]
  },
  {
   "cell_type": "code",
   "execution_count": null,
   "metadata": {},
   "outputs": [],
   "source": [
    "# deleting the column 'Taxes'\n",
    "del df['Taxes']\n"
   ]
  },
  {
   "cell_type": "code",
   "execution_count": null,
   "metadata": {},
   "outputs": [],
   "source": [
    "df\n"
   ]
  },
  {
   "cell_type": "code",
   "execution_count": null,
   "metadata": {},
   "outputs": [],
   "source": [
    "## Dataframe from a dictionary\n",
    "\n",
    "Myfruits = {'fruits':['Orange','Mango','Grapes','Guava'],'Price' :[20,50,90,100]}\n",
    "dfFruits = DataFrame(Myfruits)\n",
    "dfFruits"
   ]
  },
  {
   "cell_type": "code",
   "execution_count": null,
   "metadata": {},
   "outputs": [],
   "source": [
    "## indexing\n",
    "\n",
    "df = Series([6,4,5,9,7],index=['Red','Blue','Green','Brown','Violet'])\n",
    "df"
   ]
  },
  {
   "cell_type": "code",
   "execution_count": null,
   "metadata": {},
   "outputs": [],
   "source": [
    "### Reindexing\n",
    "df.reindex(['Red','Blue','Green','Brown','Violet', 'Pink'])\n"
   ]
  },
  {
   "cell_type": "code",
   "execution_count": null,
   "metadata": {},
   "outputs": [],
   "source": [
    "df.reindex(['Red','Blue','Green','Brown','Violet','Pink'],fill_value=10)\n"
   ]
  },
  {
   "cell_type": "code",
   "execution_count": null,
   "metadata": {},
   "outputs": [],
   "source": [
    "df"
   ]
  },
  {
   "cell_type": "code",
   "execution_count": null,
   "metadata": {},
   "outputs": [],
   "source": [
    "## Reindexing rows, columns or both\n",
    "\n",
    "dframe = DataFrame(np.random.randint(25,size=25).reshape((5,5)),index=['A','B','D','E','F'],\n",
    "                   columns=['col1','col2','col3','col4','col5'])\n",
    "\n",
    "dframe"
   ]
  },
  {
   "cell_type": "code",
   "execution_count": null,
   "metadata": {},
   "outputs": [],
   "source": [
    "## Summing up columns and rows¶\n",
    "print(df.sum(axis=1))  ## sum of rows\n",
    "print(df.sum(axis=0))  ## sum of columns"
   ]
  },
  {
   "cell_type": "code",
   "execution_count": null,
   "metadata": {},
   "outputs": [],
   "source": [
    "df.describe()"
   ]
  },
  {
   "cell_type": "code",
   "execution_count": null,
   "metadata": {},
   "outputs": [],
   "source": [
    "corr = df.corr()"
   ]
  },
  {
   "cell_type": "code",
   "execution_count": null,
   "metadata": {},
   "outputs": [],
   "source": [
    "### Plot the Correlation heatmap matrix using Seaborn – A Data Visualization Library¶\n",
    "import seaborn as sns\n",
    "%matplotlib inline\n",
    "sns.heatmap(corr)"
   ]
  },
  {
   "cell_type": "code",
   "execution_count": null,
   "metadata": {},
   "outputs": [],
   "source": [
    "###  Missing data in dataframes\n",
    "import pandas as pd\n",
    "df = DataFrame([[5,4,3,2,7],[6,3,np.NaN,np.NAN,9],[np.NaN,3,4,2,np.NaN]])\n",
    "df\n"
   ]
  },
  {
   "cell_type": "code",
   "execution_count": null,
   "metadata": {},
   "outputs": [],
   "source": [
    "## drop null values\n",
    "\n",
    "df1 = df.dropna(axis=1)\n",
    "df1"
   ]
  },
  {
   "cell_type": "code",
   "execution_count": null,
   "metadata": {},
   "outputs": [],
   "source": [
    "## drop na where row has 3 values\n",
    "df2 = df.dropna(thresh=3)\n",
    "df2"
   ]
  },
  {
   "cell_type": "code",
   "execution_count": null,
   "metadata": {},
   "outputs": [],
   "source": [
    "### fill nan values with some value\n",
    "df.fillna('5')"
   ]
  },
  {
   "cell_type": "code",
   "execution_count": null,
   "metadata": {},
   "outputs": [],
   "source": [
    "### Drop rows¶\n",
    "\n",
    "df.drop(1)"
   ]
  },
  {
   "cell_type": "code",
   "execution_count": null,
   "metadata": {},
   "outputs": [],
   "source": [
    "dframe = DataFrame(np.random.randint(25,size=25).reshape((5,5)),index=['A','B','D','E','F'],\n",
    "                   columns=['col1','col2','col3','col4','col5'])"
   ]
  },
  {
   "cell_type": "code",
   "execution_count": null,
   "metadata": {},
   "outputs": [],
   "source": [
    "### Selecting only 2 columns¶\n",
    "\n",
    "print(dframe[['col1','col3']])\n",
    "print(dframe)"
   ]
  },
  {
   "cell_type": "code",
   "execution_count": null,
   "metadata": {},
   "outputs": [],
   "source": [
    "### selection based on index\n",
    "## use .loc for selection based on row name\n",
    "## use .iloc for selection based on index of row\n",
    "\n",
    "print(dframe)\n",
    "print(dframe.loc['B'])\n",
    "print(dframe.iloc[2])\n"
   ]
  },
  {
   "cell_type": "code",
   "execution_count": null,
   "metadata": {},
   "outputs": [],
   "source": [
    "## Selection on condition\n",
    "dframe[dframe['col1'] > 10]"
   ]
  },
  {
   "cell_type": "code",
   "execution_count": null,
   "metadata": {},
   "outputs": [],
   "source": [
    "### selecting values\n",
    "df=Series([6,4,3,2],index=['A','B','C','D'])\n",
    "\n",
    "df"
   ]
  },
  {
   "cell_type": "code",
   "execution_count": null,
   "metadata": {},
   "outputs": [],
   "source": [
    "print(\"The value @ c: \", df['C'])\n",
    "\n",
    "print(\"The 0th and 1st row values: \\n\" ,df[0:2])\n",
    "\n"
   ]
  },
  {
   "cell_type": "code",
   "execution_count": null,
   "metadata": {},
   "outputs": [],
   "source": [
    "### Sorting\n",
    "df=Series([6,4,2,1],index=['P','R','S','Q'])\n",
    "\n",
    "df"
   ]
  },
  {
   "cell_type": "code",
   "execution_count": null,
   "metadata": {},
   "outputs": [],
   "source": [
    "df.sort_index() # sort by index\n"
   ]
  },
  {
   "cell_type": "code",
   "execution_count": null,
   "metadata": {},
   "outputs": [],
   "source": [
    "df.sort_values() ## sort by values\n"
   ]
  },
  {
   "cell_type": "code",
   "execution_count": null,
   "metadata": {},
   "outputs": [],
   "source": [
    "df.rank() # sort ny rank\n"
   ]
  },
  {
   "cell_type": "code",
   "execution_count": null,
   "metadata": {},
   "outputs": [],
   "source": [
    "### MultiIndexing¶\n",
    "\n",
    "Sr = Series([5,4,3,7,9,6],index=[[1,1,2,2,3,3],['a','b','a','b','a','b']])\n",
    "Sr"
   ]
  },
  {
   "cell_type": "code",
   "execution_count": null,
   "metadata": {},
   "outputs": [],
   "source": [
    "## verifying indexing levels\n",
    "Sr.index\n"
   ]
  },
  {
   "cell_type": "code",
   "execution_count": null,
   "metadata": {},
   "outputs": [],
   "source": [
    "####  Get Values by first Index¶\n",
    "\n",
    "Sr[3]"
   ]
  },
  {
   "cell_type": "code",
   "execution_count": null,
   "metadata": {},
   "outputs": [],
   "source": [
    "### Get Values by Second Index\n",
    "Sr[:, 'b']"
   ]
  },
  {
   "cell_type": "code",
   "execution_count": null,
   "metadata": {},
   "outputs": [],
   "source": [
    "Sr.unstack()\n"
   ]
  },
  {
   "cell_type": "code",
   "execution_count": null,
   "metadata": {},
   "outputs": [],
   "source": [
    "### Group by\n",
    "\n",
    "df_csv = pd.read_csv(\"/Users/Sivaram/Desktop/Learning/Training/Kelly/xlsx/Salaries.csv\")\n",
    "df_csv.head()"
   ]
  },
  {
   "cell_type": "code",
   "execution_count": null,
   "metadata": {},
   "outputs": [],
   "source": [
    "df_csv.groupby(['club','position']).count().sort_values(by=['base_salary'],ascending=[False]).head(5)\n"
   ]
  },
  {
   "cell_type": "code",
   "execution_count": null,
   "metadata": {},
   "outputs": [],
   "source": []
  },
  {
   "cell_type": "code",
   "execution_count": null,
   "metadata": {},
   "outputs": [],
   "source": []
  }
 ],
 "metadata": {
  "kernelspec": {
   "display_name": "Python 3 (ipykernel)",
   "language": "python",
   "name": "python3"
  },
  "language_info": {
   "codemirror_mode": {
    "name": "ipython",
    "version": 3
   },
   "file_extension": ".py",
   "mimetype": "text/x-python",
   "name": "python",
   "nbconvert_exporter": "python",
   "pygments_lexer": "ipython3",
   "version": "3.11.3"
  }
 },
 "nbformat": 4,
 "nbformat_minor": 2
}
