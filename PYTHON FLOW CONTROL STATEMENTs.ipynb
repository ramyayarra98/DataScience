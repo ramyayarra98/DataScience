{
 "cells": [
  {
   "cell_type": "markdown",
   "id": "33b5532c",
   "metadata": {},
   "source": [
    "# PYTHON FLOW CONTROL STATEMENT"
   ]
  },
  {
   "cell_type": "raw",
   "id": "6237112e",
   "metadata": {},
   "source": [
    "1. Python if...else\n",
    "2. Python for loop\n",
    "3. Python while loop\n",
    "4. Python Break and Continue\n",
    "5. Python Pass"
   ]
  },
  {
   "cell_type": "markdown",
   "id": "2afdb7aa",
   "metadata": {},
   "source": [
    "# Python if...else :"
   ]
  },
  {
   "cell_type": "code",
   "execution_count": 1,
   "id": "56b68a31",
   "metadata": {},
   "outputs": [],
   "source": [
    "# In python, there are three forms of the if...else statement\n",
    "#1. if = statement\n",
    "#2. if...else statement\n",
    "#3. if...elif...else statement"
   ]
  },
  {
   "cell_type": "code",
   "execution_count": 2,
   "id": "b4f4e6d9",
   "metadata": {},
   "outputs": [
    {
     "name": "stdout",
     "output_type": "stream",
     "text": [
      "Negative number\n"
     ]
    }
   ],
   "source": [
    "number = -5\n",
    "if number >0:\n",
    "    print('Positive number')\n",
    "else:\n",
    "        print('Negative number')"
   ]
  },
  {
   "cell_type": "code",
   "execution_count": 3,
   "id": "2f9d712c",
   "metadata": {},
   "outputs": [
    {
     "name": "stdout",
     "output_type": "stream",
     "text": [
      "Positive number\n"
     ]
    }
   ],
   "source": [
    "number = 10\n",
    "if number >0:\n",
    "    print('Positive number')\n",
    "else:\n",
    "        print('Negative number')"
   ]
  },
  {
   "cell_type": "code",
   "execution_count": 4,
   "id": "83555cab",
   "metadata": {},
   "outputs": [
    {
     "name": "stdout",
     "output_type": "stream",
     "text": [
      "Negative number\n",
      "This statement is always executed\n"
     ]
    }
   ],
   "source": [
    "number = 0\n",
    "if number >0:\n",
    "    print('Positive number')\n",
    "else:\n",
    "        print('Negative number')\n",
    "        print('This statement is always executed')"
   ]
  },
  {
   "cell_type": "code",
   "execution_count": 13,
   "id": "c89d9969",
   "metadata": {},
   "outputs": [
    {
     "name": "stdout",
     "output_type": "stream",
     "text": [
      "Number is positive\n"
     ]
    }
   ],
   "source": [
    "number = 5\n",
    "if (number >= 0):\n",
    "    if number == 0:\n",
    "      print('Number is 0')\n",
    "    else:\n",
    "        print('Number is positive')\n",
    "else:\n",
    "    print('Number is negative')"
   ]
  },
  {
   "cell_type": "markdown",
   "id": "24fc1fd1",
   "metadata": {},
   "source": [
    "# if...elif...else Statement"
   ]
  },
  {
   "cell_type": "code",
   "execution_count": 14,
   "id": "8d273d6a",
   "metadata": {},
   "outputs": [
    {
     "name": "stdout",
     "output_type": "stream",
     "text": [
      "Zero\n",
      "This statement is always executed\n"
     ]
    }
   ],
   "source": [
    "number = 0\n",
    "\n",
    "if number > 0:\n",
    "    print(\"Positive number\")\n",
    "\n",
    "elif number == 0:\n",
    "    print('Zero')\n",
    "else:\n",
    "    print('Negative number')\n",
    "\n",
    "print('This statement is always executed')"
   ]
  },
  {
   "cell_type": "markdown",
   "id": "fd5e4e86",
   "metadata": {},
   "source": [
    "# Nested if Statement\n"
   ]
  },
  {
   "cell_type": "code",
   "execution_count": 15,
   "id": "19c6480a",
   "metadata": {},
   "outputs": [
    {
     "name": "stdout",
     "output_type": "stream",
     "text": [
      "Number is positive\n"
     ]
    }
   ],
   "source": [
    "number = 5\n",
    "\n",
    "# outer if statement\n",
    "if (number >= 0):\n",
    "    # inner if statement\n",
    "    if number == 0:\n",
    "      print('Number is 0')\n",
    "    \n",
    "    # inner else statement\n",
    "    else:\n",
    "        print('Number is positive')\n",
    "\n",
    "# outer else statement\n",
    "else:\n",
    "    print('Number is negative')\n",
    "\n",
    "# Output: Number is positive"
   ]
  },
  {
   "cell_type": "markdown",
   "id": "0a7d299f",
   "metadata": {},
   "source": [
    "# Python Loops\n",
    "- For Loop\n",
    "- While Loop"
   ]
  },
  {
   "cell_type": "markdown",
   "id": "23f716d3",
   "metadata": {},
   "source": [
    "# for loop"
   ]
  },
  {
   "cell_type": "code",
   "execution_count": 7,
   "id": "36d7f659",
   "metadata": {},
   "outputs": [
    {
     "name": "stdout",
     "output_type": "stream",
     "text": [
      "Swift\n",
      "Python\n",
      "Go\n",
      "JavaScript\n"
     ]
    }
   ],
   "source": [
    "languages = ['Swift', 'Python', 'Go', 'JavaScript']\n",
    "\n",
    "# run a loop for each item of the list\n",
    "for language in languages:\n",
    "    print(language)"
   ]
  },
  {
   "cell_type": "code",
   "execution_count": 8,
   "id": "e72783b5",
   "metadata": {},
   "outputs": [
    {
     "data": {
      "text/plain": [
       "range(0, 4)"
      ]
     },
     "execution_count": 8,
     "metadata": {},
     "output_type": "execute_result"
    }
   ],
   "source": [
    "# Python for loop with Python range()\n",
    "range(4)"
   ]
  },
  {
   "cell_type": "code",
   "execution_count": 9,
   "id": "dcca3a0f",
   "metadata": {},
   "outputs": [
    {
     "name": "stdout",
     "output_type": "stream",
     "text": [
      "0\n",
      "1\n",
      "2\n",
      "3\n"
     ]
    }
   ],
   "source": [
    "# use of range() to define a range of values\n",
    "values = range(4)\n",
    "\n",
    "# iterate from i = 0 to i = 3\n",
    "for i in values:\n",
    "    print(i)"
   ]
  },
  {
   "cell_type": "code",
   "execution_count": 10,
   "id": "0b5c5ac4",
   "metadata": {},
   "outputs": [
    {
     "name": "stdout",
     "output_type": "stream",
     "text": [
      "Hello\n",
      "Hi\n",
      "Hello\n",
      "Hi\n",
      "Hello\n",
      "Hi\n"
     ]
    }
   ],
   "source": [
    "languages = ['Swift', 'Python', 'Go']\n",
    "\n",
    "for language in languages:\n",
    "    print('Hello')\n",
    "    print('Hi')"
   ]
  },
  {
   "cell_type": "code",
   "execution_count": 11,
   "id": "233c022b",
   "metadata": {},
   "outputs": [
    {
     "name": "stdout",
     "output_type": "stream",
     "text": [
      "0\n",
      "1\n",
      "5\n",
      "No items left\n"
     ]
    }
   ],
   "source": [
    "digits =[0, 1, 5]\n",
    "for i in digits:\n",
    "    print(i)\n",
    "else:\n",
    "    print('No items left')"
   ]
  },
  {
   "cell_type": "markdown",
   "id": "87c56072",
   "metadata": {},
   "source": [
    "# While Loop"
   ]
  },
  {
   "cell_type": "raw",
   "id": "396a3d65",
   "metadata": {},
   "source": [
    "DL - project\n",
    "MNIST- Digit Recogniser"
   ]
  },
  {
   "cell_type": "code",
   "execution_count": 12,
   "id": "c1313477",
   "metadata": {},
   "outputs": [
    {
     "name": "stdout",
     "output_type": "stream",
     "text": [
      "1\n",
      "2\n",
      "3\n",
      "4\n",
      "5\n"
     ]
    }
   ],
   "source": [
    "# program to display numbers from 1 to 5\n",
    "\n",
    "# initialize the variable\n",
    "i = 1\n",
    "n = 5\n",
    "\n",
    "# while loop from i = 1 to 5\n",
    "while i <= n:\n",
    "    print(i)\n",
    "    i = i + 1"
   ]
  },
  {
   "cell_type": "code",
   "execution_count": null,
   "id": "050a2a2d",
   "metadata": {},
   "outputs": [],
   "source": [
    "total = 0\n",
    "\n",
    "number = int(input('Enter a number: '))\n",
    "\n",
    "# add numbers until number is zero\n",
    "while number != 0:\n",
    "    total += number    # total = total + number\n",
    "    \n",
    "    # take integer input again\n",
    "    number = int(input('Enter a number: '))\n",
    "    \n",
    "\n",
    "print('total =', total)"
   ]
  },
  {
   "cell_type": "markdown",
   "id": "979eabfb",
   "metadata": {},
   "source": [
    "# Python break and continue\n",
    "- The break statement is used to terminate the loop immediately when it is encountered."
   ]
  },
  {
   "cell_type": "code",
   "execution_count": 16,
   "id": "9bd638ad",
   "metadata": {},
   "outputs": [
    {
     "name": "stdout",
     "output_type": "stream",
     "text": [
      "0\n",
      "1\n",
      "2\n"
     ]
    }
   ],
   "source": [
    "for i in range(5):\n",
    "    if i == 3:\n",
    "        break\n",
    "    print(i)   "
   ]
  },
  {
   "cell_type": "code",
   "execution_count": 17,
   "id": "6b09c319",
   "metadata": {},
   "outputs": [
    {
     "name": "stdout",
     "output_type": "stream",
     "text": [
      "6 *  1 = 6\n",
      "6 *  2 = 12\n",
      "6 *  3 = 18\n",
      "6 *  4 = 24\n",
      "6 *  5 = 30\n"
     ]
    }
   ],
   "source": [
    "# program to find first 5 multiples of 6\n",
    "\n",
    "i = 1\n",
    "\n",
    "while i <= 10:\n",
    "    print('6 * ',(i), '=',6 * i)\n",
    "\n",
    "    if i >= 5:\n",
    "        break\n",
    "    \n",
    "    i = i + 1"
   ]
  },
  {
   "cell_type": "markdown",
   "id": "670dcb3e",
   "metadata": {},
   "source": [
    "- The continue statement is used to skip the current iteration of the loop and the control flow of the program goes to the next iteration."
   ]
  },
  {
   "cell_type": "code",
   "execution_count": 18,
   "id": "8429fa30",
   "metadata": {},
   "outputs": [
    {
     "name": "stdout",
     "output_type": "stream",
     "text": [
      "0\n",
      "1\n",
      "2\n",
      "4\n"
     ]
    }
   ],
   "source": [
    "for i in range(5):\n",
    "    if i == 3:\n",
    "        continue\n",
    "    print(i)"
   ]
  },
  {
   "cell_type": "code",
   "execution_count": null,
   "id": "1d8f8403",
   "metadata": {},
   "outputs": [],
   "source": [
    "# program to print odd numbers from 1 to 10\n",
    "\n",
    "num = 0\n",
    "\n",
    "while num < 10:\n",
    "    num += 1\n",
    "    \n",
    "    if (num % 2) == 0:\n",
    "        continue\n",
    "\n",
    "    print(num)"
   ]
  },
  {
   "cell_type": "markdown",
   "id": "d70806d9",
   "metadata": {},
   "source": [
    "# Python pass Statement"
   ]
  },
  {
   "cell_type": "code",
   "execution_count": 1,
   "id": "462e0953",
   "metadata": {},
   "outputs": [
    {
     "name": "stdout",
     "output_type": "stream",
     "text": [
      "Hello\n"
     ]
    }
   ],
   "source": [
    "n = 10\n",
    "\n",
    "# use pass inside if statement\n",
    "if n > 10:\n",
    "    pass\n",
    "\n",
    "print('Hello')"
   ]
  },
  {
   "cell_type": "code",
   "execution_count": null,
   "id": "88b0bdea",
   "metadata": {},
   "outputs": [],
   "source": [
    "n = 10\n",
    "\n",
    "if n > 10:\n",
    "    # write code later\n",
    "\n",
    "print('Hello')"
   ]
  },
  {
   "cell_type": "code",
   "execution_count": null,
   "id": "0370fac5",
   "metadata": {},
   "outputs": [],
   "source": []
  }
 ],
 "metadata": {
  "kernelspec": {
   "display_name": "Python 3 (ipykernel)",
   "language": "python",
   "name": "python3"
  },
  "language_info": {
   "codemirror_mode": {
    "name": "ipython",
    "version": 3
   },
   "file_extension": ".py",
   "mimetype": "text/x-python",
   "name": "python",
   "nbconvert_exporter": "python",
   "pygments_lexer": "ipython3",
   "version": "3.11.3"
  }
 },
 "nbformat": 4,
 "nbformat_minor": 5
}
