{
 "cells": [
  {
   "cell_type": "markdown",
   "id": "cc2ccbee",
   "metadata": {},
   "source": [
    "# Python Functions"
   ]
  },
  {
   "cell_type": "markdown",
   "id": "abad71bb",
   "metadata": {},
   "source": [
    "- Is a block of statementss that returns the specific task. the idea is to put some commonly or repeatedly done tasks together and make a function so that instead of writing the same code again and again for different inputs, we can do function calls to reuse code contained in it over and over again.\n",
    "SOME BENEFITS OF USING FUNCTIONS\n",
    "- INCREASE CODE READABILITY\n",
    "- INCREASE CODE REUSABILITY"
   ]
  },
  {
   "cell_type": "markdown",
   "id": "4a6e4192",
   "metadata": {},
   "source": [
    "# Python function declaration\n",
    "the Syntax to declare a finction is: \n",
    "\n",
    "def <function_name><arguments>:\n",
    "    # statement\n",
    "    return expressions"
   ]
  },
  {
   "cell_type": "raw",
   "id": "8206e981",
   "metadata": {},
   "source": [
    "def function_name(arguments):\n",
    "    # function body \n",
    "\n",
    "    return"
   ]
  },
  {
   "cell_type": "markdown",
   "id": "10418cff",
   "metadata": {},
   "source": [
    "# Types of Functions\n",
    "there are two types of functions\n",
    "- Build_infunctions\n",
    "- User Defined functions"
   ]
  },
  {
   "cell_type": "code",
   "execution_count": null,
   "id": "1f1c290e",
   "metadata": {},
   "outputs": [],
   "source": [
    "Creating a function in python\n",
    "We can "
   ]
  },
  {
   "cell_type": "code",
   "execution_count": null,
   "id": "2b6b71ab",
   "metadata": {},
   "outputs": [],
   "source": [
    "# Simple function calling\n",
    "def Hello():\n",
    "    print(\"Hello World\")\n",
    "    \n",
    "#function calling\n",
    "Hello()   "
   ]
  },
  {
   "cell_type": "code",
   "execution_count": null,
   "id": "8534bbc2",
   "metadata": {},
   "outputs": [],
   "source": [
    "def  Kelly():\n",
    "    print(\"Data Science\")\n",
    "    \n",
    "Kelly()    "
   ]
  },
  {
   "cell_type": "markdown",
   "id": "2d7f976c",
   "metadata": {},
   "source": [
    "# Return Statements  "
   ]
  },
  {
   "cell_type": "code",
   "execution_count": 16,
   "id": "9ae12e8c",
   "metadata": {},
   "outputs": [
    {
     "name": "stdout",
     "output_type": "stream",
     "text": [
      "None\n"
     ]
    }
   ],
   "source": [
    "# How the Return Statement\n",
    "def sum():\n",
    "    a=10\n",
    "    b=20\n",
    "    c=30\n",
    "    \n",
    "print(sum())    "
   ]
  },
  {
   "cell_type": "code",
   "execution_count": 15,
   "id": "6b7d25ec",
   "metadata": {},
   "outputs": [
    {
     "name": "stdout",
     "output_type": "stream",
     "text": [
      "20\n"
     ]
    }
   ],
   "source": [
    "def sum():\n",
    "    a=10\n",
    "    b=20\n",
    "    c=30\n",
    "    return b\n",
    "print(sum())    "
   ]
  },
  {
   "cell_type": "code",
   "execution_count": 14,
   "id": "359d0471",
   "metadata": {},
   "outputs": [
    {
     "name": "stdout",
     "output_type": "stream",
     "text": [
      "25\n"
     ]
    }
   ],
   "source": [
    "# Python code to demonstrate the working of\n",
    "# sum()\n",
    "numbers = [1,2,3,4,5,1,4,5]\n",
    "## start parameter is not provided\n",
    "Sum = sum(numbers)\n",
    "print(Sum)"
   ]
  },
  {
   "cell_type": "code",
   "execution_count": 12,
   "id": "9ff59bd0",
   "metadata": {},
   "outputs": [
    {
     "ename": "IndentationError",
     "evalue": "expected an indented block after 'for' statement on line 2 (220506237.py, line 3)",
     "output_type": "error",
     "traceback": [
      "\u001b[1;36m  Cell \u001b[1;32mIn[12], line 3\u001b[1;36m\u001b[0m\n\u001b[1;33m    print(i)\u001b[0m\n\u001b[1;37m    ^\u001b[0m\n\u001b[1;31mIndentationError\u001b[0m\u001b[1;31m:\u001b[0m expected an indented block after 'for' statement on line 2\n"
     ]
    }
   ],
   "source": [
    "def numbers(Sum):\n",
    "    for i in Sum:\n",
    "    print(i)\n",
    "numbers=[1,2,3,4,5,1,4,5]\n",
    "Sum = sum(numbers)\n",
    "numbers(Sum)"
   ]
  },
  {
   "cell_type": "code",
   "execution_count": 13,
   "id": "589b1b89",
   "metadata": {},
   "outputs": [
    {
     "name": "stdout",
     "output_type": "stream",
     "text": [
      "15\n"
     ]
    }
   ],
   "source": [
    "a = (1, 2, 3, 4, 5)\n",
    "x = sum(a)\n",
    "print(x)"
   ]
  },
  {
   "cell_type": "code",
   "execution_count": 10,
   "id": "567a4fb4",
   "metadata": {},
   "outputs": [
    {
     "name": "stdout",
     "output_type": "stream",
     "text": [
      "apple\n",
      "banana\n",
      "cherry\n"
     ]
    }
   ],
   "source": [
    "def my_function(food):\n",
    "  for x in food:\n",
    "    print(x)\n",
    "\n",
    "fruits = [\"apple\", \"banana\", \"cherry\"]\n",
    "\n",
    "my_function(fruits)"
   ]
  },
  {
   "cell_type": "code",
   "execution_count": 9,
   "id": "f8adc192",
   "metadata": {},
   "outputs": [
    {
     "name": "stdout",
     "output_type": "stream",
     "text": [
      "15\n"
     ]
    }
   ],
   "source": [
    "a = [1, 2, 3, 4, 5]\n",
    "x = sum(a)\n",
    "print(x)"
   ]
  },
  {
   "cell_type": "code",
   "execution_count": 8,
   "id": "7358e127",
   "metadata": {},
   "outputs": [
    {
     "name": "stdout",
     "output_type": "stream",
     "text": [
      "15\n"
     ]
    }
   ],
   "source": [
    "a = (1, 2, 3, 4, 5)\n",
    "x = sum(a)\n",
    "print(x)"
   ]
  },
  {
   "cell_type": "code",
   "execution_count": 6,
   "id": "2eaad2bb",
   "metadata": {},
   "outputs": [],
   "source": [
    "# Arguments in function\n",
    "def fun(name):\n",
    "    print(\"Hi Hello:\", name)"
   ]
  },
  {
   "cell_type": "code",
   "execution_count": 7,
   "id": "3bcff4cf",
   "metadata": {},
   "outputs": [
    {
     "name": "stdout",
     "output_type": "stream",
     "text": [
      "Hi Hello: kelly\n"
     ]
    }
   ],
   "source": [
    "fun(\"kelly\")"
   ]
  },
  {
   "cell_type": "code",
   "execution_count": 4,
   "id": "ff6e53f5",
   "metadata": {},
   "outputs": [],
   "source": [
    "def fun(x,y):\n",
    "    print(\"X value is :\", x)\n",
    "    print(\"y value is :\", y)"
   ]
  },
  {
   "cell_type": "code",
   "execution_count": 5,
   "id": "c094a7ca",
   "metadata": {},
   "outputs": [
    {
     "name": "stdout",
     "output_type": "stream",
     "text": [
      "X value is : 2\n",
      "y value is : 3\n"
     ]
    }
   ],
   "source": [
    "fun(2,3)"
   ]
  },
  {
   "cell_type": "code",
   "execution_count": 23,
   "id": "56ca2436",
   "metadata": {},
   "outputs": [
    {
     "ename": "IndentationError",
     "evalue": "expected an indented block after function definition on line 1 (380750965.py, line 2)",
     "output_type": "error",
     "traceback": [
      "\u001b[1;36m  Cell \u001b[1;32mIn[23], line 2\u001b[1;36m\u001b[0m\n\u001b[1;33m    kelly = a+b+c\u001b[0m\n\u001b[1;37m    ^\u001b[0m\n\u001b[1;31mIndentationError\u001b[0m\u001b[1;31m:\u001b[0m expected an indented block after function definition on line 1\n"
     ]
    }
   ],
   "source": [
    "def total(a,b,c):\n",
    "kelly = a+b+c\n",
    "print(\"a value is :\", a)\n",
    "print(\"b value is :\", b)\n",
    "print(\"c value is :\", c)\n",
    "return kelly\n",
    "print(\"the sum of the given numbers is:\", total(150,80,30))\n",
    "    "
   ]
  },
  {
   "cell_type": "code",
   "execution_count": 19,
   "id": "2911c9ff",
   "metadata": {},
   "outputs": [
    {
     "ename": "TypeError",
     "evalue": "sum() takes 0 positional arguments but 3 were given",
     "output_type": "error",
     "traceback": [
      "\u001b[1;31m---------------------------------------------------------------------------\u001b[0m",
      "\u001b[1;31mTypeError\u001b[0m                                 Traceback (most recent call last)",
      "Cell \u001b[1;32mIn[19], line 1\u001b[0m\n\u001b[1;32m----> 1\u001b[0m \u001b[38;5;28msum\u001b[39m(\u001b[38;5;241m150\u001b[39m,\u001b[38;5;241m80\u001b[39m,\u001b[38;5;241m30\u001b[39m)\n",
      "\u001b[1;31mTypeError\u001b[0m: sum() takes 0 positional arguments but 3 were given"
     ]
    }
   ],
   "source": [
    "sum(150,80,30)"
   ]
  },
  {
   "cell_type": "markdown",
   "id": "647782c9",
   "metadata": {},
   "source": [
    "# Types of Function Arguments"
   ]
  },
  {
   "cell_type": "markdown",
   "id": "a15c2919",
   "metadata": {},
   "source": [
    "1. Required Arguments\n",
    "2. Keyword Arguments\n",
    "3. Default Arguments\n",
    "4. Variable-length Arguments"
   ]
  },
  {
   "cell_type": "markdown",
   "id": "91e76d99",
   "metadata": {},
   "source": [
    "# 1. Required Arguments"
   ]
  },
  {
   "cell_type": "code",
   "execution_count": 24,
   "id": "e3780e0f",
   "metadata": {},
   "outputs": [
    {
     "name": "stdout",
     "output_type": "stream",
     "text": [
      "10 20\n"
     ]
    }
   ],
   "source": [
    "def display(a,b):\n",
    "    print(a,b)\n",
    "display(10,20)    "
   ]
  },
  {
   "cell_type": "markdown",
   "id": "42debd32",
   "metadata": {},
   "source": [
    "# 2. Keyword Arguments"
   ]
  },
  {
   "cell_type": "code",
   "execution_count": 25,
   "id": "17e7a463",
   "metadata": {},
   "outputs": [
    {
     "name": "stdout",
     "output_type": "stream",
     "text": [
      "50 40\n"
     ]
    }
   ],
   "source": [
    "def display(a,b):\n",
    "    print(a,b)\n",
    "display(b=40,a=50)   "
   ]
  },
  {
   "cell_type": "markdown",
   "id": "9253b7ff",
   "metadata": {},
   "source": [
    "# 3. Default Arguments"
   ]
  },
  {
   "cell_type": "code",
   "execution_count": 27,
   "id": "71267038",
   "metadata": {},
   "outputs": [
    {
     "name": "stdout",
     "output_type": "stream",
     "text": [
      "20 40\n"
     ]
    }
   ],
   "source": [
    "def display(a=10, b=15):\n",
    "    print(a,b)\n",
    "    \n",
    "display(a=20, b=40)"
   ]
  },
  {
   "cell_type": "code",
   "execution_count": 28,
   "id": "7785ae6f",
   "metadata": {},
   "outputs": [
    {
     "name": "stdout",
     "output_type": "stream",
     "text": [
      "100 15\n"
     ]
    }
   ],
   "source": [
    "display(100)"
   ]
  },
  {
   "cell_type": "code",
   "execution_count": 29,
   "id": "58462c74",
   "metadata": {},
   "outputs": [
    {
     "name": "stdout",
     "output_type": "stream",
     "text": [
      "20 15\n"
     ]
    }
   ],
   "source": [
    "def display(a=10, b=15):\n",
    "    print(a,b)\n",
    "    \n",
    "display(a=20)"
   ]
  },
  {
   "cell_type": "markdown",
   "id": "5f838fe7",
   "metadata": {},
   "source": [
    "# 4. Variable-Length Arguments"
   ]
  },
  {
   "cell_type": "code",
   "execution_count": 36,
   "id": "ede89dfa",
   "metadata": {},
   "outputs": [],
   "source": [
    "def display(*names):\n",
    "    for i in names:\n",
    "        print(i)"
   ]
  },
  {
   "cell_type": "code",
   "execution_count": 37,
   "id": "31953f3c",
   "metadata": {},
   "outputs": [
    {
     "name": "stdout",
     "output_type": "stream",
     "text": [
      "Ramya\n",
      "Naga\n",
      "Sri\n"
     ]
    }
   ],
   "source": [
    "display(\"Ramya\",\"Naga\",\"Sri\")"
   ]
  },
  {
   "cell_type": "markdown",
   "id": "88fbba70",
   "metadata": {},
   "source": [
    "# Recursive Function"
   ]
  },
  {
   "cell_type": "code",
   "execution_count": 38,
   "id": "af05a9dd",
   "metadata": {},
   "outputs": [],
   "source": [
    "# A Function is being called on itself is called recurssive function and python\n",
    "# these functions"
   ]
  },
  {
   "cell_type": "code",
   "execution_count": 46,
   "id": "efcbf43e",
   "metadata": {},
   "outputs": [
    {
     "ename": "SyntaxError",
     "evalue": "incomplete input (2405654837.py, line 4)",
     "output_type": "error",
     "traceback": [
      "\u001b[1;36m  Cell \u001b[1;32mIn[46], line 4\u001b[1;36m\u001b[0m\n\u001b[1;33m    if n<=1:\u001b[0m\n\u001b[1;37m            ^\u001b[0m\n\u001b[1;31mSyntaxError\u001b[0m\u001b[1;31m:\u001b[0m incomplete input\n"
     ]
    }
   ],
   "source": [
    "def f_rec(n):\n",
    "    print(\"i'm calling my self\")\n",
    "    n = n+1\n",
    "if n<=1:\n",
    "    "
   ]
  },
  {
   "cell_type": "code",
   "execution_count": 40,
   "id": "c58020cf",
   "metadata": {},
   "outputs": [
    {
     "name": "stdout",
     "output_type": "stream",
     "text": [
      "i'm calling my self\n"
     ]
    }
   ],
   "source": [
    "f_rec(3)"
   ]
  },
  {
   "cell_type": "code",
   "execution_count": 41,
   "id": "de2f90a0",
   "metadata": {},
   "outputs": [
    {
     "name": "stdout",
     "output_type": "stream",
     "text": [
      "Enter a number : 2\n"
     ]
    }
   ],
   "source": [
    "def rsum(n):\n",
    "    if n<=1:\n",
    "        return n\n",
    "    else:\n",
    "        return(n+rsum(n-1))\n",
    "n= int(input(\"Enter a number : \"))    "
   ]
  },
  {
   "cell_type": "code",
   "execution_count": 42,
   "id": "861f2568",
   "metadata": {},
   "outputs": [
    {
     "name": "stdout",
     "output_type": "stream",
     "text": [
      "the sum of the given number is :  3\n"
     ]
    }
   ],
   "source": [
    "print(\"the sum of the given number is : \", rsum(n))"
   ]
  },
  {
   "cell_type": "markdown",
   "id": "24b04023",
   "metadata": {},
   "source": [
    "# Lambda function"
   ]
  },
  {
   "cell_type": "code",
   "execution_count": 47,
   "id": "e3bbfa26",
   "metadata": {},
   "outputs": [],
   "source": [
    "x=lambda a:a+10"
   ]
  },
  {
   "cell_type": "code",
   "execution_count": 48,
   "id": "8f195fd0",
   "metadata": {},
   "outputs": [
    {
     "name": "stdout",
     "output_type": "stream",
     "text": [
      "16\n"
     ]
    }
   ],
   "source": [
    "print(x(6))"
   ]
  },
  {
   "cell_type": "code",
   "execution_count": 49,
   "id": "3ca0c8fe",
   "metadata": {},
   "outputs": [
    {
     "name": "stdout",
     "output_type": "stream",
     "text": [
      "60\n"
     ]
    }
   ],
   "source": [
    "x=lambda a:a*10\n",
    "print(x(6))"
   ]
  },
  {
   "cell_type": "markdown",
   "id": "1989dfa1",
   "metadata": {},
   "source": [
    "# Python Date and Time\n",
    "- A date in Python is not a data type of its own, but we can import a module named datetime to work with dates as date objects."
   ]
  },
  {
   "attachments": {
    "image.png": {
     "image/png": "[encoded data removed]"
    }
   },
   "cell_type": "markdown",
   "id": "d81a7333",
   "metadata": {},
   "source": [
    "![image.png](attachment:image.png)"
   ]
  },
  {
   "attachments": {
    "image.png": {
     "image/png": "[encoded data removed]"
    }
   },
   "cell_type": "markdown",
   "id": "3aba7d5d",
   "metadata": {},
   "source": [
    "![image.png](attachment:image.png)"
   ]
  },
  {
   "attachments": {
    "image.png": {
     "image/png": "[encoded data removed]"
    }
   },
   "cell_type": "markdown",
   "id": "2be0fb96",
   "metadata": {},
   "source": [
    "![image.png](attachment:image.png)"
   ]
  },
  {
   "attachments": {
    "image.png": {
     "image/png": "[encoded data removed]"
    }
   },
   "cell_type": "markdown",
   "id": "0930e1d2",
   "metadata": {},
   "source": [
    "![image.png](attachment:image.png)"
   ]
  },
  {
   "cell_type": "code",
   "execution_count": 1,
   "id": "32034159",
   "metadata": {},
   "outputs": [
    {
     "name": "stdout",
     "output_type": "stream",
     "text": [
      "2023-08-08 07:25:55.651072\n"
     ]
    }
   ],
   "source": [
    "import datetime\n",
    "\n",
    "x = datetime.datetime.now()\n",
    "print(x)"
   ]
  },
  {
   "cell_type": "code",
   "execution_count": 2,
   "id": "3605546e",
   "metadata": {},
   "outputs": [
    {
     "name": "stdout",
     "output_type": "stream",
     "text": [
      "2023\n",
      "Tuesday\n"
     ]
    }
   ],
   "source": [
    "import datetime\n",
    "\n",
    "x = datetime.datetime.now()\n",
    "\n",
    "print(x.year)\n",
    "print(x.strftime(\"%A\"))"
   ]
  },
  {
   "cell_type": "code",
   "execution_count": 3,
   "id": "de51b261",
   "metadata": {},
   "outputs": [
    {
     "name": "stdout",
     "output_type": "stream",
     "text": [
      "2020-05-17 00:00:00\n"
     ]
    }
   ],
   "source": [
    "import datetime\n",
    "\n",
    "x = datetime.datetime(2020, 5, 17)\n",
    "\n",
    "print(x)"
   ]
  },
  {
   "cell_type": "code",
   "execution_count": 4,
   "id": "b629f69b",
   "metadata": {},
   "outputs": [
    {
     "name": "stdout",
     "output_type": "stream",
     "text": [
      "June\n"
     ]
    }
   ],
   "source": [
    "import datetime\n",
    "\n",
    "x = datetime.datetime(2018, 6, 1)\n",
    "\n",
    "print(x.strftime(\"%B\"))"
   ]
  },
  {
   "cell_type": "code",
   "execution_count": 7,
   "id": "ac4e0fb5",
   "metadata": {},
   "outputs": [
    {
     "name": "stdout",
     "output_type": "stream",
     "text": [
      "2023-08-08\n"
     ]
    }
   ],
   "source": [
    "import datetime\n",
    "\n",
    "# get current date\n",
    "current_date = datetime.date.today()\n",
    "\n",
    "print(current_date)"
   ]
  },
  {
   "cell_type": "markdown",
   "id": "03805a6d",
   "metadata": {},
   "source": [
    "# Attributes of datetime Module\n",
    "We can use the dir() function to get a list containing all attributes of a module."
   ]
  },
  {
   "cell_type": "code",
   "execution_count": 5,
   "id": "260eeaca",
   "metadata": {},
   "outputs": [
    {
     "name": "stdout",
     "output_type": "stream",
     "text": [
      "['MAXYEAR', 'MINYEAR', 'UTC', '__all__', '__builtins__', '__cached__', '__doc__', '__file__', '__loader__', '__name__', '__package__', '__spec__', 'date', 'datetime', 'datetime_CAPI', 'sys', 'time', 'timedelta', 'timezone', 'tzinfo']\n"
     ]
    }
   ],
   "source": [
    "import datetime\n",
    "\n",
    "print(dir(datetime))"
   ]
  },
  {
   "attachments": {
    "image.png": {
     "image/png": "[encoded data removed]"
    }
   },
   "cell_type": "markdown",
   "id": "819c3bc2",
   "metadata": {},
   "source": [
    "![image.png](attachment:image.png)"
   ]
  },
  {
   "cell_type": "markdown",
   "id": "c95d74a9",
   "metadata": {},
   "source": [
    "# Python datetime.date Class\n",
    "In Python, we can instantiate date objects from the date class. A date object represents a date (year, month and day)."
   ]
  },
  {
   "cell_type": "code",
   "execution_count": 9,
   "id": "0d74d181",
   "metadata": {},
   "outputs": [
    {
     "name": "stdout",
     "output_type": "stream",
     "text": [
      "2022-12-25\n"
     ]
    }
   ],
   "source": [
    "import datetime\n",
    "\n",
    "d = datetime.date(2022, 12, 25)\n",
    "print(d)\n",
    "# Here, date() in the above example is a constructor of the date class.\n",
    "# The constructor takes three arguments: year, month and day."
   ]
  },
  {
   "cell_type": "markdown",
   "id": "61467bdb",
   "metadata": {},
   "source": [
    "# Get date from a timestamp\n",
    "We can also create date objects from a timestamp.\n",
    "\n",
    "A Unix timestamp is the number of seconds between a particular date and January 1, 1970 at UTC. You can convert a timestamp to date using the fromtimestamp() method."
   ]
  },
  {
   "cell_type": "code",
   "execution_count": 11,
   "id": "afae0f8c",
   "metadata": {},
   "outputs": [
    {
     "name": "stdout",
     "output_type": "stream",
     "text": [
      "Date = 2012-01-11\n"
     ]
    }
   ],
   "source": [
    "from datetime import date\n",
    "\n",
    "timestamp = date.fromtimestamp(1326244364)\n",
    "print(\"Date =\", timestamp)"
   ]
  },
  {
   "cell_type": "markdown",
   "id": "8cb03b29",
   "metadata": {},
   "source": [
    "# Print today's year, month and day\n",
    "We can get year, month, day, day of the week etc. from the date object easily. For example,"
   ]
  },
  {
   "cell_type": "code",
   "execution_count": 12,
   "id": "e3f66a69",
   "metadata": {},
   "outputs": [
    {
     "name": "stdout",
     "output_type": "stream",
     "text": [
      "Current year: 2023\n",
      "Current month: 8\n",
      "Current day: 8\n"
     ]
    }
   ],
   "source": [
    "from datetime import date\n",
    "\n",
    "# date object of today's date\n",
    "today = date.today() \n",
    "\n",
    "print(\"Current year:\", today.year)\n",
    "print(\"Current month:\", today.month)\n",
    "print(\"Current day:\", today.day)\n"
   ]
  },
  {
   "cell_type": "markdown",
   "id": "0244c24d",
   "metadata": {},
   "source": [
    "# Python datetime.time Class\n",
    "A time object instantiated from the time class represents the local time."
   ]
  },
  {
   "cell_type": "code",
   "execution_count": 13,
   "id": "15b9c766",
   "metadata": {},
   "outputs": [
    {
     "name": "stdout",
     "output_type": "stream",
     "text": [
      "00:00:00\n",
      "11:34:56\n",
      "11:34:56\n",
      "11:34:56.234566\n"
     ]
    }
   ],
   "source": [
    "# Example 7: Time object to represent time\n",
    "from datetime import time\n",
    "\n",
    "# time(hour = 0, minute = 0, second = 0)\n",
    "a = time()\n",
    "print(a)\n",
    "\n",
    "# time(hour, minute and second)\n",
    "b = time(11, 34, 56)\n",
    "print(b)\n",
    "\n",
    "# time(hour, minute and second)\n",
    "c = time(hour = 11, minute = 34, second = 56)\n",
    "print(c)\n",
    "\n",
    "# time(hour, minute, second, microsecond)\n",
    "d = time(11, 34, 56, 234566)\n",
    "print(d)"
   ]
  },
  {
   "cell_type": "code",
   "execution_count": 14,
   "id": "e1088dc1",
   "metadata": {},
   "outputs": [
    {
     "name": "stdout",
     "output_type": "stream",
     "text": [
      "Year = 2022\n",
      "Month = 12\n",
      "Hour = 23\n",
      "Minute = 55\n",
      "Timestamp = 1672251959.34238\n"
     ]
    }
   ],
   "source": [
    "# Example 10: Print year, month, hour, minute and timestamp\n",
    "from datetime import datetime\n",
    "\n",
    "a = datetime(2022, 12, 28, 23, 55, 59, 342380)\n",
    "\n",
    "print(\"Year =\", a.year)\n",
    "print(\"Month =\", a.month)\n",
    "print(\"Hour =\", a.hour)\n",
    "print(\"Minute =\", a.minute)\n",
    "print(\"Timestamp =\", a.timestamp())"
   ]
  },
  {
   "cell_type": "markdown",
   "id": "4c33babf",
   "metadata": {},
   "source": [
    "# Python datetime.timedelta Class\n",
    "A timedelta object represents the difference between two dates or times. For example,"
   ]
  },
  {
   "cell_type": "code",
   "execution_count": 15,
   "id": "1e34294c",
   "metadata": {},
   "outputs": [
    {
     "name": "stdout",
     "output_type": "stream",
     "text": [
      "t3 = 201 days, 0:00:00\n",
      "t6 = -333 days, 1:14:20\n",
      "Type of t3 = <class 'datetime.timedelta'>\n",
      "Type of t6 = <class 'datetime.timedelta'>\n"
     ]
    }
   ],
   "source": [
    "from datetime import datetime, date\n",
    "\n",
    "# using date()\n",
    "t1 = date(year = 2018, month = 7, day = 12)\n",
    "t2 = date(year = 2017, month = 12, day = 23)\n",
    "\n",
    "t3 = t1 - t2\n",
    "\n",
    "print(\"t3 =\", t3)\n",
    "\n",
    "# using datetime()\n",
    "t4 = datetime(year = 2018, month = 7, day = 12, hour = 7, minute = 9, second = 33)\n",
    "t5 = datetime(year = 2019, month = 6, day = 10, hour = 5, minute = 55, second = 13)\n",
    "t6 = t4 - t5\n",
    "print(\"t6 =\", t6)\n",
    "\n",
    "print(\"Type of t3 =\", type(t3)) \n",
    "print(\"Type of t6 =\", type(t6))  "
   ]
  },
  {
   "cell_type": "markdown",
   "id": "7f43e0de",
   "metadata": {},
   "source": [
    "# Printing Calendar"
   ]
  },
  {
   "cell_type": "code",
   "execution_count": 18,
   "id": "eff8574a",
   "metadata": {},
   "outputs": [
    {
     "name": "stdout",
     "output_type": "stream",
     "text": [
      "                                  2023\n",
      "\n",
      "      January                   February                   March\n",
      "Mo Tu We Th Fr Sa Su      Mo Tu We Th Fr Sa Su      Mo Tu We Th Fr Sa Su\n",
      "                   1             1  2  3  4  5             1  2  3  4  5\n",
      " 2  3  4  5  6  7  8       6  7  8  9 10 11 12       6  7  8  9 10 11 12\n",
      " 9 10 11 12 13 14 15      13 14 15 16 17 18 19      13 14 15 16 17 18 19\n",
      "16 17 18 19 20 21 22      20 21 22 23 24 25 26      20 21 22 23 24 25 26\n",
      "23 24 25 26 27 28 29      27 28                     27 28 29 30 31\n",
      "30 31\n",
      "\n",
      "       April                      May                       June\n",
      "Mo Tu We Th Fr Sa Su      Mo Tu We Th Fr Sa Su      Mo Tu We Th Fr Sa Su\n",
      "                1  2       1  2  3  4  5  6  7                1  2  3  4\n",
      " 3  4  5  6  7  8  9       8  9 10 11 12 13 14       5  6  7  8  9 10 11\n",
      "10 11 12 13 14 15 16      15 16 17 18 19 20 21      12 13 14 15 16 17 18\n",
      "17 18 19 20 21 22 23      22 23 24 25 26 27 28      19 20 21 22 23 24 25\n",
      "24 25 26 27 28 29 30      29 30 31                  26 27 28 29 30\n",
      "\n",
      "        July                     August                  September\n",
      "Mo Tu We Th Fr Sa Su      Mo Tu We Th Fr Sa Su      Mo Tu We Th Fr Sa Su\n",
      "                1  2          1  2  3  4  5  6                   1  2  3\n",
      " 3  4  5  6  7  8  9       7  8  9 10 11 12 13       4  5  6  7  8  9 10\n",
      "10 11 12 13 14 15 16      14 15 16 17 18 19 20      11 12 13 14 15 16 17\n",
      "17 18 19 20 21 22 23      21 22 23 24 25 26 27      18 19 20 21 22 23 24\n",
      "24 25 26 27 28 29 30      28 29 30 31               25 26 27 28 29 30\n",
      "31\n",
      "\n",
      "      October                   November                  December\n",
      "Mo Tu We Th Fr Sa Su      Mo Tu We Th Fr Sa Su      Mo Tu We Th Fr Sa Su\n",
      "                   1             1  2  3  4  5                   1  2  3\n",
      " 2  3  4  5  6  7  8       6  7  8  9 10 11 12       4  5  6  7  8  9 10\n",
      " 9 10 11 12 13 14 15      13 14 15 16 17 18 19      11 12 13 14 15 16 17\n",
      "16 17 18 19 20 21 22      20 21 22 23 24 25 26      18 19 20 21 22 23 24\n",
      "23 24 25 26 27 28 29      27 28 29 30               25 26 27 28 29 30 31\n",
      "30 31\n",
      "\n"
     ]
    }
   ],
   "source": [
    "import calendar\n",
    "year = 2023\n",
    "print(calendar.calendar(year))"
   ]
  },
  {
   "cell_type": "code",
   "execution_count": 19,
   "id": "96b180b1",
   "metadata": {},
   "outputs": [
    {
     "name": "stdout",
     "output_type": "stream",
     "text": [
      "    October 2023\n",
      "Mo Tu We Th Fr Sa Su\n",
      "                   1\n",
      " 2  3  4  5  6  7  8\n",
      " 9 10 11 12 13 14 15\n",
      "16 17 18 19 20 21 22\n",
      "23 24 25 26 27 28 29\n",
      "30 31\n",
      "\n"
     ]
    }
   ],
   "source": [
    "import calendar\n",
    "year = 2023\n",
    "month = 10\n",
    "print(calendar.month(year,month))"
   ]
  },
  {
   "cell_type": "markdown",
   "id": "700a1121",
   "metadata": {},
   "source": [
    "# format datetime\n",
    "The way date and time is represented may be different in different places, organizations etc. It's more common to use mm/dd/yyyy in the US, whereas dd/mm/yyyy is more common in the UK.\n",
    "\n",
    "Python has strftime() and strptime() methods to handle this.\n",
    "\n",
    "- Python strftime() Method :\n",
    "The strftime() method is defined under classes date, datetime and time. The method creates a formatted string from a given date, datetime or time object.\n",
    "\n",
    "Let's see an example."
   ]
  },
  {
   "cell_type": "code",
   "execution_count": 21,
   "id": "22fe1544",
   "metadata": {},
   "outputs": [
    {
     "name": "stdout",
     "output_type": "stream",
     "text": [
      "Time: 07:52:36\n",
      "s1: 08/08/2023, 07:52:36\n",
      "s2: 08/08/2023, 07:52:36\n",
      "s3: 2023/08/08, 07:52:36\n"
     ]
    }
   ],
   "source": [
    "from datetime import datetime\n",
    "\n",
    "# current date and time\n",
    "now = datetime.now()\n",
    "\n",
    "t = now.strftime(\"%H:%M:%S\")\n",
    "print(\"Time:\", t)\n",
    "\n",
    "s1 = now.strftime(\"%m/%d/%Y, %H:%M:%S\")\n",
    "# mm/dd/YY H:M:S format\n",
    "print(\"s1:\", s1)\n",
    "\n",
    "s2 = now.strftime(\"%d/%m/%Y, %H:%M:%S\")\n",
    "# dd/mm/YY H:M:S format\n",
    "print(\"s2:\", s2)\n",
    "\n",
    "s3 = now.strftime(\"%Y/%m/%d, %H:%M:%S\")\n",
    "#YY/mm/dd H:M:S format\n",
    "print(\"s3:\", s3)"
   ]
  },
  {
   "cell_type": "markdown",
   "id": "89ae8ca4",
   "metadata": {},
   "source": [
    "# Math\n",
    "Python has a set of built-in math functions, including an extensive math module, that allows you to perform mathematical tasks on numbers.\n",
    "- Built-in Math Functions :\n",
    "The min() and max() functions can be used to find the lowest or highest value in an iterable:"
   ]
  },
  {
   "cell_type": "code",
   "execution_count": 23,
   "id": "da73d0d1",
   "metadata": {},
   "outputs": [
    {
     "name": "stdout",
     "output_type": "stream",
     "text": [
      "5\n",
      "25\n"
     ]
    }
   ],
   "source": [
    "x = min(5, 10, 25)\n",
    "y = max(5, 10, 25)\n",
    "\n",
    "print(x)\n",
    "print(y)"
   ]
  },
  {
   "cell_type": "code",
   "execution_count": 24,
   "id": "eb59ecb5",
   "metadata": {},
   "outputs": [
    {
     "name": "stdout",
     "output_type": "stream",
     "text": [
      "7.25\n"
     ]
    }
   ],
   "source": [
    "x = abs(-7.25)\n",
    "\n",
    "print(x)"
   ]
  },
  {
   "cell_type": "code",
   "execution_count": 25,
   "id": "e0fddf84",
   "metadata": {},
   "outputs": [
    {
     "name": "stdout",
     "output_type": "stream",
     "text": [
      "64\n"
     ]
    }
   ],
   "source": [
    "x = pow(4, 3)\n",
    "\n",
    "print(x)"
   ]
  },
  {
   "cell_type": "code",
   "execution_count": 26,
   "id": "abdd60c4",
   "metadata": {},
   "outputs": [
    {
     "name": "stdout",
     "output_type": "stream",
     "text": [
      "8.0\n"
     ]
    }
   ],
   "source": [
    "import math\n",
    "\n",
    "x = math.sqrt(64)\n",
    "\n",
    "print(x)"
   ]
  },
  {
   "cell_type": "code",
   "execution_count": 27,
   "id": "0c429d23",
   "metadata": {},
   "outputs": [
    {
     "data": {
      "text/plain": [
       "2.0"
      ]
     },
     "execution_count": 27,
     "metadata": {},
     "output_type": "execute_result"
    }
   ],
   "source": [
    "# Square root calculation\n",
    "\n",
    "import math\n",
    "math.sqrt(4)"
   ]
  },
  {
   "cell_type": "code",
   "execution_count": 33,
   "id": "ccc37280",
   "metadata": {},
   "outputs": [
    {
     "data": {
      "text/plain": [
       "-0.6536436208636119"
      ]
     },
     "execution_count": 33,
     "metadata": {},
     "output_type": "execute_result"
    }
   ],
   "source": [
    "import math\n",
    "math.cos(4)"
   ]
  },
  {
   "cell_type": "code",
   "execution_count": 30,
   "id": "369f808c",
   "metadata": {},
   "outputs": [
    {
     "data": {
      "text/plain": [
       "-0.7568024953079282"
      ]
     },
     "execution_count": 30,
     "metadata": {},
     "output_type": "execute_result"
    }
   ],
   "source": [
    "import math\n",
    "math.sin(4)"
   ]
  },
  {
   "cell_type": "code",
   "execution_count": 34,
   "id": "53229dd1",
   "metadata": {},
   "outputs": [
    {
     "data": {
      "text/plain": [
       "0.0"
      ]
     },
     "execution_count": 34,
     "metadata": {},
     "output_type": "execute_result"
    }
   ],
   "source": [
    "import math\n",
    "math.tan(0)"
   ]
  },
  {
   "cell_type": "markdown",
   "id": "4bfa74fb",
   "metadata": {},
   "source": [
    "# PYTHON REGULAR EXPRESSIONS\n",
    "- USED for data cleaning, identifing the patterens, read all dilimiters, and extract strings from the position indexes using all special characters.\n",
    "- python regular expressions is also called as 'REGEX'\n",
    "- in python we use import as REGEX.\n",
    "- REGULAR EXPRESSIONS are used for data parsing.\n",
    "- REGULAR EXPRESSIONS are wiedly used to convert unstructured text into structured formate."
   ]
  },
  {
   "cell_type": "code",
   "execution_count": null,
   "id": "208d8cf2",
   "metadata": {},
   "outputs": [],
   "source": []
  }
 ],
 "metadata": {
  "kernelspec": {
   "display_name": "Python 3 (ipykernel)",
   "language": "python",
   "name": "python3"
  },
  "language_info": {
   "codemirror_mode": {
    "name": "ipython",
    "version": 3
   },
   "file_extension": ".py",
   "mimetype": "text/x-python",
   "name": "python",
   "nbconvert_exporter": "python",
   "pygments_lexer": "ipython3",
   "version": "3.11.3"
  }
 },
 "nbformat": 4,
 "nbformat_minor": 5
}
